{
  "nbformat": 4,
  "nbformat_minor": 0,
  "metadata": {
    "colab": {
      "name": "Stock data.ipynb",
      "provenance": [],
      "authorship_tag": "ABX9TyPtthyzVcMurITQzPJojFWu",
      "include_colab_link": true
    },
    "kernelspec": {
      "name": "python3",
      "display_name": "Python 3"
    }
  },
  "cells": [
    {
      "cell_type": "markdown",
      "metadata": {
        "id": "view-in-github",
        "colab_type": "text"
      },
      "source": [
        "<a href=\"https://colab.research.google.com/github/Alexypl/data-science/blob/master/Stock_data.ipynb\" target=\"_parent\"><img src=\"https://colab.research.google.com/assets/colab-badge.svg\" alt=\"Open In Colab\"/></a>"
      ]
    },
    {
      "cell_type": "code",
      "metadata": {
        "id": "1-2GRPvUUdFH",
        "colab_type": "code",
        "colab": {
          "base_uri": "https://localhost:8080/",
          "height": 52
        },
        "outputId": "81ba09b2-ad9d-478a-d528-28e1c7dae886"
      },
      "source": [
        "import numpy as np \n",
        "import pandas as pd\n",
        "\n",
        "print(f'Numpy: {np.__version__}')\n",
        "print(f'Pandas: {pd.__version__}')"
      ],
      "execution_count": 1,
      "outputs": [
        {
          "output_type": "stream",
          "text": [
            "Numpy: 1.18.2\n",
            "Pandas: 0.25.3\n"
          ],
          "name": "stdout"
        }
      ]
    },
    {
      "cell_type": "markdown",
      "metadata": {
        "id": "XP2XiRqXVG2Y",
        "colab_type": "text"
      },
      "source": [
        "Import data"
      ]
    },
    {
      "cell_type": "code",
      "metadata": {
        "id": "cE0YUB3SVFBX",
        "colab_type": "code",
        "colab": {
          "base_uri": "https://localhost:8080/",
          "height": 228
        },
        "outputId": "bd97b302-120e-4ae7-f42f-412cb90edc3f"
      },
      "source": [
        "def fetch_financial_data(company='AMZN'):\n",
        "    \"\"\"Pobiera dane dotyczące notowań spółek na giełdzie według symboli\n",
        "    na serwisie stooq.pl\"\"\"\n",
        "    import pandas_datareader.data as web\n",
        "    return web.DataReader(name=company, data_source='stooq')\n",
        "\n",
        "df = fetch_financial_data()\n",
        "df.info()    "
      ],
      "execution_count": 2,
      "outputs": [
        {
          "output_type": "stream",
          "text": [
            "ERROR! Session/line number was not unique in database. History logging moved to new session 59\n",
            "<class 'pandas.core.frame.DataFrame'>\n",
            "DatetimeIndex: 2576 entries, 2020-03-27 to 2010-01-04\n",
            "Data columns (total 5 columns):\n",
            "Open      2576 non-null float64\n",
            "High      2576 non-null float64\n",
            "Low       2576 non-null float64\n",
            "Close     2576 non-null float64\n",
            "Volume    2575 non-null float64\n",
            "dtypes: float64(5)\n",
            "memory usage: 120.8 KB\n"
          ],
          "name": "stdout"
        }
      ]
    },
    {
      "cell_type": "code",
      "metadata": {
        "id": "e4IuzQKZVFFt",
        "colab_type": "code",
        "colab": {
          "base_uri": "https://localhost:8080/",
          "height": 446
        },
        "outputId": "6f1da7ef-cfb0-4ccd-b3c0-51a9629a1a9d"
      },
      "source": [
        "df"
      ],
      "execution_count": 3,
      "outputs": [
        {
          "output_type": "execute_result",
          "data": {
            "text/html": [
              "<div>\n",
              "<style scoped>\n",
              "    .dataframe tbody tr th:only-of-type {\n",
              "        vertical-align: middle;\n",
              "    }\n",
              "\n",
              "    .dataframe tbody tr th {\n",
              "        vertical-align: top;\n",
              "    }\n",
              "\n",
              "    .dataframe thead th {\n",
              "        text-align: right;\n",
              "    }\n",
              "</style>\n",
              "<table border=\"1\" class=\"dataframe\">\n",
              "  <thead>\n",
              "    <tr style=\"text-align: right;\">\n",
              "      <th></th>\n",
              "      <th>Open</th>\n",
              "      <th>High</th>\n",
              "      <th>Low</th>\n",
              "      <th>Close</th>\n",
              "      <th>Volume</th>\n",
              "    </tr>\n",
              "    <tr>\n",
              "      <th>Date</th>\n",
              "      <th></th>\n",
              "      <th></th>\n",
              "      <th></th>\n",
              "      <th></th>\n",
              "      <th></th>\n",
              "    </tr>\n",
              "  </thead>\n",
              "  <tbody>\n",
              "    <tr>\n",
              "      <th>2020-03-27</th>\n",
              "      <td>1930.860</td>\n",
              "      <td>1939.79</td>\n",
              "      <td>1899.9200</td>\n",
              "      <td>1900.10</td>\n",
              "      <td>5387897.0</td>\n",
              "    </tr>\n",
              "    <tr>\n",
              "      <th>2020-03-26</th>\n",
              "      <td>1902.000</td>\n",
              "      <td>1956.49</td>\n",
              "      <td>1889.2900</td>\n",
              "      <td>1955.49</td>\n",
              "      <td>6235118.0</td>\n",
              "    </tr>\n",
              "    <tr>\n",
              "      <th>2020-03-25</th>\n",
              "      <td>1920.690</td>\n",
              "      <td>1950.26</td>\n",
              "      <td>1885.7800</td>\n",
              "      <td>1885.84</td>\n",
              "      <td>6479073.0</td>\n",
              "    </tr>\n",
              "    <tr>\n",
              "      <th>2020-03-24</th>\n",
              "      <td>1951.495</td>\n",
              "      <td>1955.00</td>\n",
              "      <td>1900.3403</td>\n",
              "      <td>1940.10</td>\n",
              "      <td>7147080.0</td>\n",
              "    </tr>\n",
              "    <tr>\n",
              "      <th>2020-03-23</th>\n",
              "      <td>1827.750</td>\n",
              "      <td>1919.40</td>\n",
              "      <td>1812.0000</td>\n",
              "      <td>1902.83</td>\n",
              "      <td>7808489.0</td>\n",
              "    </tr>\n",
              "    <tr>\n",
              "      <th>...</th>\n",
              "      <td>...</td>\n",
              "      <td>...</td>\n",
              "      <td>...</td>\n",
              "      <td>...</td>\n",
              "      <td>...</td>\n",
              "    </tr>\n",
              "    <tr>\n",
              "      <th>2010-01-08</th>\n",
              "      <td>130.700</td>\n",
              "      <td>133.68</td>\n",
              "      <td>129.0300</td>\n",
              "      <td>133.52</td>\n",
              "      <td>9826568.0</td>\n",
              "    </tr>\n",
              "    <tr>\n",
              "      <th>2010-01-07</th>\n",
              "      <td>131.960</td>\n",
              "      <td>132.32</td>\n",
              "      <td>128.8000</td>\n",
              "      <td>130.00</td>\n",
              "      <td>11014197.0</td>\n",
              "    </tr>\n",
              "    <tr>\n",
              "      <th>2010-01-06</th>\n",
              "      <td>134.630</td>\n",
              "      <td>134.73</td>\n",
              "      <td>131.6500</td>\n",
              "      <td>132.25</td>\n",
              "      <td>7178209.0</td>\n",
              "    </tr>\n",
              "    <tr>\n",
              "      <th>2010-01-05</th>\n",
              "      <td>133.250</td>\n",
              "      <td>135.48</td>\n",
              "      <td>131.8100</td>\n",
              "      <td>134.69</td>\n",
              "      <td>8851066.0</td>\n",
              "    </tr>\n",
              "    <tr>\n",
              "      <th>2010-01-04</th>\n",
              "      <td>136.280</td>\n",
              "      <td>136.61</td>\n",
              "      <td>133.1400</td>\n",
              "      <td>133.90</td>\n",
              "      <td>7595995.0</td>\n",
              "    </tr>\n",
              "  </tbody>\n",
              "</table>\n",
              "<p>2576 rows × 5 columns</p>\n",
              "</div>"
            ],
            "text/plain": [
              "                Open     High        Low    Close      Volume\n",
              "Date                                                         \n",
              "2020-03-27  1930.860  1939.79  1899.9200  1900.10   5387897.0\n",
              "2020-03-26  1902.000  1956.49  1889.2900  1955.49   6235118.0\n",
              "2020-03-25  1920.690  1950.26  1885.7800  1885.84   6479073.0\n",
              "2020-03-24  1951.495  1955.00  1900.3403  1940.10   7147080.0\n",
              "2020-03-23  1827.750  1919.40  1812.0000  1902.83   7808489.0\n",
              "...              ...      ...        ...      ...         ...\n",
              "2010-01-08   130.700   133.68   129.0300   133.52   9826568.0\n",
              "2010-01-07   131.960   132.32   128.8000   130.00  11014197.0\n",
              "2010-01-06   134.630   134.73   131.6500   132.25   7178209.0\n",
              "2010-01-05   133.250   135.48   131.8100   134.69   8851066.0\n",
              "2010-01-04   136.280   136.61   133.1400   133.90   7595995.0\n",
              "\n",
              "[2576 rows x 5 columns]"
            ]
          },
          "metadata": {
            "tags": []
          },
          "execution_count": 3
        }
      ]
    },
    {
      "cell_type": "code",
      "metadata": {
        "id": "Sprg0FUuVFKF",
        "colab_type": "code",
        "colab": {
          "base_uri": "https://localhost:8080/",
          "height": 233
        },
        "outputId": "71b6d810-e972-4cb4-ad06-0c86ac86a29e"
      },
      "source": [
        "df.head()"
      ],
      "execution_count": 4,
      "outputs": [
        {
          "output_type": "execute_result",
          "data": {
            "text/html": [
              "<div>\n",
              "<style scoped>\n",
              "    .dataframe tbody tr th:only-of-type {\n",
              "        vertical-align: middle;\n",
              "    }\n",
              "\n",
              "    .dataframe tbody tr th {\n",
              "        vertical-align: top;\n",
              "    }\n",
              "\n",
              "    .dataframe thead th {\n",
              "        text-align: right;\n",
              "    }\n",
              "</style>\n",
              "<table border=\"1\" class=\"dataframe\">\n",
              "  <thead>\n",
              "    <tr style=\"text-align: right;\">\n",
              "      <th></th>\n",
              "      <th>Open</th>\n",
              "      <th>High</th>\n",
              "      <th>Low</th>\n",
              "      <th>Close</th>\n",
              "      <th>Volume</th>\n",
              "    </tr>\n",
              "    <tr>\n",
              "      <th>Date</th>\n",
              "      <th></th>\n",
              "      <th></th>\n",
              "      <th></th>\n",
              "      <th></th>\n",
              "      <th></th>\n",
              "    </tr>\n",
              "  </thead>\n",
              "  <tbody>\n",
              "    <tr>\n",
              "      <th>2020-03-27</th>\n",
              "      <td>1930.860</td>\n",
              "      <td>1939.79</td>\n",
              "      <td>1899.9200</td>\n",
              "      <td>1900.10</td>\n",
              "      <td>5387897.0</td>\n",
              "    </tr>\n",
              "    <tr>\n",
              "      <th>2020-03-26</th>\n",
              "      <td>1902.000</td>\n",
              "      <td>1956.49</td>\n",
              "      <td>1889.2900</td>\n",
              "      <td>1955.49</td>\n",
              "      <td>6235118.0</td>\n",
              "    </tr>\n",
              "    <tr>\n",
              "      <th>2020-03-25</th>\n",
              "      <td>1920.690</td>\n",
              "      <td>1950.26</td>\n",
              "      <td>1885.7800</td>\n",
              "      <td>1885.84</td>\n",
              "      <td>6479073.0</td>\n",
              "    </tr>\n",
              "    <tr>\n",
              "      <th>2020-03-24</th>\n",
              "      <td>1951.495</td>\n",
              "      <td>1955.00</td>\n",
              "      <td>1900.3403</td>\n",
              "      <td>1940.10</td>\n",
              "      <td>7147080.0</td>\n",
              "    </tr>\n",
              "    <tr>\n",
              "      <th>2020-03-23</th>\n",
              "      <td>1827.750</td>\n",
              "      <td>1919.40</td>\n",
              "      <td>1812.0000</td>\n",
              "      <td>1902.83</td>\n",
              "      <td>7808489.0</td>\n",
              "    </tr>\n",
              "  </tbody>\n",
              "</table>\n",
              "</div>"
            ],
            "text/plain": [
              "                Open     High        Low    Close     Volume\n",
              "Date                                                        \n",
              "2020-03-27  1930.860  1939.79  1899.9200  1900.10  5387897.0\n",
              "2020-03-26  1902.000  1956.49  1889.2900  1955.49  6235118.0\n",
              "2020-03-25  1920.690  1950.26  1885.7800  1885.84  6479073.0\n",
              "2020-03-24  1951.495  1955.00  1900.3403  1940.10  7147080.0\n",
              "2020-03-23  1827.750  1919.40  1812.0000  1902.83  7808489.0"
            ]
          },
          "metadata": {
            "tags": []
          },
          "execution_count": 4
        }
      ]
    },
    {
      "cell_type": "code",
      "metadata": {
        "id": "rrp1P2x6WVyO",
        "colab_type": "code",
        "colab": {
          "base_uri": "https://localhost:8080/",
          "height": 386
        },
        "outputId": "9500e60c-5054-4c1f-939a-09fd2ef4053d"
      },
      "source": [
        "df.head(10)"
      ],
      "execution_count": 5,
      "outputs": [
        {
          "output_type": "execute_result",
          "data": {
            "text/html": [
              "<div>\n",
              "<style scoped>\n",
              "    .dataframe tbody tr th:only-of-type {\n",
              "        vertical-align: middle;\n",
              "    }\n",
              "\n",
              "    .dataframe tbody tr th {\n",
              "        vertical-align: top;\n",
              "    }\n",
              "\n",
              "    .dataframe thead th {\n",
              "        text-align: right;\n",
              "    }\n",
              "</style>\n",
              "<table border=\"1\" class=\"dataframe\">\n",
              "  <thead>\n",
              "    <tr style=\"text-align: right;\">\n",
              "      <th></th>\n",
              "      <th>Open</th>\n",
              "      <th>High</th>\n",
              "      <th>Low</th>\n",
              "      <th>Close</th>\n",
              "      <th>Volume</th>\n",
              "    </tr>\n",
              "    <tr>\n",
              "      <th>Date</th>\n",
              "      <th></th>\n",
              "      <th></th>\n",
              "      <th></th>\n",
              "      <th></th>\n",
              "      <th></th>\n",
              "    </tr>\n",
              "  </thead>\n",
              "  <tbody>\n",
              "    <tr>\n",
              "      <th>2020-03-27</th>\n",
              "      <td>1930.860</td>\n",
              "      <td>1939.7900</td>\n",
              "      <td>1899.9200</td>\n",
              "      <td>1900.10</td>\n",
              "      <td>5387897.0</td>\n",
              "    </tr>\n",
              "    <tr>\n",
              "      <th>2020-03-26</th>\n",
              "      <td>1902.000</td>\n",
              "      <td>1956.4900</td>\n",
              "      <td>1889.2900</td>\n",
              "      <td>1955.49</td>\n",
              "      <td>6235118.0</td>\n",
              "    </tr>\n",
              "    <tr>\n",
              "      <th>2020-03-25</th>\n",
              "      <td>1920.690</td>\n",
              "      <td>1950.2600</td>\n",
              "      <td>1885.7800</td>\n",
              "      <td>1885.84</td>\n",
              "      <td>6479073.0</td>\n",
              "    </tr>\n",
              "    <tr>\n",
              "      <th>2020-03-24</th>\n",
              "      <td>1951.495</td>\n",
              "      <td>1955.0000</td>\n",
              "      <td>1900.3403</td>\n",
              "      <td>1940.10</td>\n",
              "      <td>7147080.0</td>\n",
              "    </tr>\n",
              "    <tr>\n",
              "      <th>2020-03-23</th>\n",
              "      <td>1827.750</td>\n",
              "      <td>1919.4000</td>\n",
              "      <td>1812.0000</td>\n",
              "      <td>1902.83</td>\n",
              "      <td>7808489.0</td>\n",
              "    </tr>\n",
              "    <tr>\n",
              "      <th>2020-03-20</th>\n",
              "      <td>1926.310</td>\n",
              "      <td>1957.0000</td>\n",
              "      <td>1820.7300</td>\n",
              "      <td>1846.09</td>\n",
              "      <td>9817850.0</td>\n",
              "    </tr>\n",
              "    <tr>\n",
              "      <th>2020-03-19</th>\n",
              "      <td>1860.000</td>\n",
              "      <td>1945.0000</td>\n",
              "      <td>1832.6500</td>\n",
              "      <td>1880.93</td>\n",
              "      <td>10399943.0</td>\n",
              "    </tr>\n",
              "    <tr>\n",
              "      <th>2020-03-18</th>\n",
              "      <td>1750.000</td>\n",
              "      <td>1841.6600</td>\n",
              "      <td>1745.0000</td>\n",
              "      <td>1830.00</td>\n",
              "      <td>9645218.0</td>\n",
              "    </tr>\n",
              "    <tr>\n",
              "      <th>2020-03-17</th>\n",
              "      <td>1775.470</td>\n",
              "      <td>1857.7750</td>\n",
              "      <td>1689.2402</td>\n",
              "      <td>1807.84</td>\n",
              "      <td>10917129.0</td>\n",
              "    </tr>\n",
              "    <tr>\n",
              "      <th>2020-03-16</th>\n",
              "      <td>1641.510</td>\n",
              "      <td>1759.4519</td>\n",
              "      <td>1626.0318</td>\n",
              "      <td>1689.15</td>\n",
              "      <td>8917265.0</td>\n",
              "    </tr>\n",
              "  </tbody>\n",
              "</table>\n",
              "</div>"
            ],
            "text/plain": [
              "                Open       High        Low    Close      Volume\n",
              "Date                                                           \n",
              "2020-03-27  1930.860  1939.7900  1899.9200  1900.10   5387897.0\n",
              "2020-03-26  1902.000  1956.4900  1889.2900  1955.49   6235118.0\n",
              "2020-03-25  1920.690  1950.2600  1885.7800  1885.84   6479073.0\n",
              "2020-03-24  1951.495  1955.0000  1900.3403  1940.10   7147080.0\n",
              "2020-03-23  1827.750  1919.4000  1812.0000  1902.83   7808489.0\n",
              "2020-03-20  1926.310  1957.0000  1820.7300  1846.09   9817850.0\n",
              "2020-03-19  1860.000  1945.0000  1832.6500  1880.93  10399943.0\n",
              "2020-03-18  1750.000  1841.6600  1745.0000  1830.00   9645218.0\n",
              "2020-03-17  1775.470  1857.7750  1689.2402  1807.84  10917129.0\n",
              "2020-03-16  1641.510  1759.4519  1626.0318  1689.15   8917265.0"
            ]
          },
          "metadata": {
            "tags": []
          },
          "execution_count": 5
        }
      ]
    },
    {
      "cell_type": "code",
      "metadata": {
        "id": "kLaqaEgqWV2y",
        "colab_type": "code",
        "colab": {
          "base_uri": "https://localhost:8080/",
          "height": 233
        },
        "outputId": "38d6d888-a84b-429b-cfa3-1e3e94979f65"
      },
      "source": [
        "df.tail()"
      ],
      "execution_count": 6,
      "outputs": [
        {
          "output_type": "execute_result",
          "data": {
            "text/html": [
              "<div>\n",
              "<style scoped>\n",
              "    .dataframe tbody tr th:only-of-type {\n",
              "        vertical-align: middle;\n",
              "    }\n",
              "\n",
              "    .dataframe tbody tr th {\n",
              "        vertical-align: top;\n",
              "    }\n",
              "\n",
              "    .dataframe thead th {\n",
              "        text-align: right;\n",
              "    }\n",
              "</style>\n",
              "<table border=\"1\" class=\"dataframe\">\n",
              "  <thead>\n",
              "    <tr style=\"text-align: right;\">\n",
              "      <th></th>\n",
              "      <th>Open</th>\n",
              "      <th>High</th>\n",
              "      <th>Low</th>\n",
              "      <th>Close</th>\n",
              "      <th>Volume</th>\n",
              "    </tr>\n",
              "    <tr>\n",
              "      <th>Date</th>\n",
              "      <th></th>\n",
              "      <th></th>\n",
              "      <th></th>\n",
              "      <th></th>\n",
              "      <th></th>\n",
              "    </tr>\n",
              "  </thead>\n",
              "  <tbody>\n",
              "    <tr>\n",
              "      <th>2010-01-08</th>\n",
              "      <td>130.70</td>\n",
              "      <td>133.68</td>\n",
              "      <td>129.03</td>\n",
              "      <td>133.52</td>\n",
              "      <td>9826568.0</td>\n",
              "    </tr>\n",
              "    <tr>\n",
              "      <th>2010-01-07</th>\n",
              "      <td>131.96</td>\n",
              "      <td>132.32</td>\n",
              "      <td>128.80</td>\n",
              "      <td>130.00</td>\n",
              "      <td>11014197.0</td>\n",
              "    </tr>\n",
              "    <tr>\n",
              "      <th>2010-01-06</th>\n",
              "      <td>134.63</td>\n",
              "      <td>134.73</td>\n",
              "      <td>131.65</td>\n",
              "      <td>132.25</td>\n",
              "      <td>7178209.0</td>\n",
              "    </tr>\n",
              "    <tr>\n",
              "      <th>2010-01-05</th>\n",
              "      <td>133.25</td>\n",
              "      <td>135.48</td>\n",
              "      <td>131.81</td>\n",
              "      <td>134.69</td>\n",
              "      <td>8851066.0</td>\n",
              "    </tr>\n",
              "    <tr>\n",
              "      <th>2010-01-04</th>\n",
              "      <td>136.28</td>\n",
              "      <td>136.61</td>\n",
              "      <td>133.14</td>\n",
              "      <td>133.90</td>\n",
              "      <td>7595995.0</td>\n",
              "    </tr>\n",
              "  </tbody>\n",
              "</table>\n",
              "</div>"
            ],
            "text/plain": [
              "              Open    High     Low   Close      Volume\n",
              "Date                                                  \n",
              "2010-01-08  130.70  133.68  129.03  133.52   9826568.0\n",
              "2010-01-07  131.96  132.32  128.80  130.00  11014197.0\n",
              "2010-01-06  134.63  134.73  131.65  132.25   7178209.0\n",
              "2010-01-05  133.25  135.48  131.81  134.69   8851066.0\n",
              "2010-01-04  136.28  136.61  133.14  133.90   7595995.0"
            ]
          },
          "metadata": {
            "tags": []
          },
          "execution_count": 6
        }
      ]
    },
    {
      "cell_type": "code",
      "metadata": {
        "id": "SDQ0zMtIWfPB",
        "colab_type": "code",
        "colab": {
          "base_uri": "https://localhost:8080/",
          "height": 35
        },
        "outputId": "b7047f17-2d37-4996-8ec8-cf6e84f2ee97"
      },
      "source": [
        "df.columns"
      ],
      "execution_count": 7,
      "outputs": [
        {
          "output_type": "execute_result",
          "data": {
            "text/plain": [
              "Index(['Open', 'High', 'Low', 'Close', 'Volume'], dtype='object')"
            ]
          },
          "metadata": {
            "tags": []
          },
          "execution_count": 7
        }
      ]
    },
    {
      "cell_type": "code",
      "metadata": {
        "id": "CzFTLxQnWfTk",
        "colab_type": "code",
        "colab": {
          "base_uri": "https://localhost:8080/",
          "height": 233
        },
        "outputId": "58eada99-74a0-4e6f-d528-ac9551a3595b"
      },
      "source": [
        "df.columns = [col.lower() for col in df.columns]\n",
        "df.head()"
      ],
      "execution_count": 9,
      "outputs": [
        {
          "output_type": "execute_result",
          "data": {
            "text/html": [
              "<div>\n",
              "<style scoped>\n",
              "    .dataframe tbody tr th:only-of-type {\n",
              "        vertical-align: middle;\n",
              "    }\n",
              "\n",
              "    .dataframe tbody tr th {\n",
              "        vertical-align: top;\n",
              "    }\n",
              "\n",
              "    .dataframe thead th {\n",
              "        text-align: right;\n",
              "    }\n",
              "</style>\n",
              "<table border=\"1\" class=\"dataframe\">\n",
              "  <thead>\n",
              "    <tr style=\"text-align: right;\">\n",
              "      <th></th>\n",
              "      <th>open</th>\n",
              "      <th>high</th>\n",
              "      <th>low</th>\n",
              "      <th>close</th>\n",
              "      <th>volume</th>\n",
              "    </tr>\n",
              "    <tr>\n",
              "      <th>Date</th>\n",
              "      <th></th>\n",
              "      <th></th>\n",
              "      <th></th>\n",
              "      <th></th>\n",
              "      <th></th>\n",
              "    </tr>\n",
              "  </thead>\n",
              "  <tbody>\n",
              "    <tr>\n",
              "      <th>2020-03-27</th>\n",
              "      <td>1930.860</td>\n",
              "      <td>1939.79</td>\n",
              "      <td>1899.9200</td>\n",
              "      <td>1900.10</td>\n",
              "      <td>5387897.0</td>\n",
              "    </tr>\n",
              "    <tr>\n",
              "      <th>2020-03-26</th>\n",
              "      <td>1902.000</td>\n",
              "      <td>1956.49</td>\n",
              "      <td>1889.2900</td>\n",
              "      <td>1955.49</td>\n",
              "      <td>6235118.0</td>\n",
              "    </tr>\n",
              "    <tr>\n",
              "      <th>2020-03-25</th>\n",
              "      <td>1920.690</td>\n",
              "      <td>1950.26</td>\n",
              "      <td>1885.7800</td>\n",
              "      <td>1885.84</td>\n",
              "      <td>6479073.0</td>\n",
              "    </tr>\n",
              "    <tr>\n",
              "      <th>2020-03-24</th>\n",
              "      <td>1951.495</td>\n",
              "      <td>1955.00</td>\n",
              "      <td>1900.3403</td>\n",
              "      <td>1940.10</td>\n",
              "      <td>7147080.0</td>\n",
              "    </tr>\n",
              "    <tr>\n",
              "      <th>2020-03-23</th>\n",
              "      <td>1827.750</td>\n",
              "      <td>1919.40</td>\n",
              "      <td>1812.0000</td>\n",
              "      <td>1902.83</td>\n",
              "      <td>7808489.0</td>\n",
              "    </tr>\n",
              "  </tbody>\n",
              "</table>\n",
              "</div>"
            ],
            "text/plain": [
              "                open     high        low    close     volume\n",
              "Date                                                        \n",
              "2020-03-27  1930.860  1939.79  1899.9200  1900.10  5387897.0\n",
              "2020-03-26  1902.000  1956.49  1889.2900  1955.49  6235118.0\n",
              "2020-03-25  1920.690  1950.26  1885.7800  1885.84  6479073.0\n",
              "2020-03-24  1951.495  1955.00  1900.3403  1940.10  7147080.0\n",
              "2020-03-23  1827.750  1919.40  1812.0000  1902.83  7808489.0"
            ]
          },
          "metadata": {
            "tags": []
          },
          "execution_count": 9
        }
      ]
    },
    {
      "cell_type": "code",
      "metadata": {
        "id": "gJkHle12XAea",
        "colab_type": "code",
        "colab": {
          "base_uri": "https://localhost:8080/",
          "height": 294
        },
        "outputId": "eac5ce91-5c76-40f3-dd6f-9dd3431bc542"
      },
      "source": [
        "df.describe()"
      ],
      "execution_count": 10,
      "outputs": [
        {
          "output_type": "execute_result",
          "data": {
            "text/html": [
              "<div>\n",
              "<style scoped>\n",
              "    .dataframe tbody tr th:only-of-type {\n",
              "        vertical-align: middle;\n",
              "    }\n",
              "\n",
              "    .dataframe tbody tr th {\n",
              "        vertical-align: top;\n",
              "    }\n",
              "\n",
              "    .dataframe thead th {\n",
              "        text-align: right;\n",
              "    }\n",
              "</style>\n",
              "<table border=\"1\" class=\"dataframe\">\n",
              "  <thead>\n",
              "    <tr style=\"text-align: right;\">\n",
              "      <th></th>\n",
              "      <th>open</th>\n",
              "      <th>high</th>\n",
              "      <th>low</th>\n",
              "      <th>close</th>\n",
              "      <th>volume</th>\n",
              "    </tr>\n",
              "  </thead>\n",
              "  <tbody>\n",
              "    <tr>\n",
              "      <th>count</th>\n",
              "      <td>2576.000000</td>\n",
              "      <td>2576.000000</td>\n",
              "      <td>2576.000000</td>\n",
              "      <td>2576.000000</td>\n",
              "      <td>2.575000e+03</td>\n",
              "    </tr>\n",
              "    <tr>\n",
              "      <th>mean</th>\n",
              "      <td>705.641877</td>\n",
              "      <td>712.583050</td>\n",
              "      <td>697.761387</td>\n",
              "      <td>705.529121</td>\n",
              "      <td>4.494003e+06</td>\n",
              "    </tr>\n",
              "    <tr>\n",
              "      <th>std</th>\n",
              "      <td>604.834631</td>\n",
              "      <td>610.419779</td>\n",
              "      <td>598.188679</td>\n",
              "      <td>604.509759</td>\n",
              "      <td>2.858600e+06</td>\n",
              "    </tr>\n",
              "    <tr>\n",
              "      <th>min</th>\n",
              "      <td>105.930000</td>\n",
              "      <td>111.290000</td>\n",
              "      <td>105.800000</td>\n",
              "      <td>108.610000</td>\n",
              "      <td>8.813370e+05</td>\n",
              "    </tr>\n",
              "    <tr>\n",
              "      <th>25%</th>\n",
              "      <td>231.017500</td>\n",
              "      <td>234.692500</td>\n",
              "      <td>228.010000</td>\n",
              "      <td>231.785000</td>\n",
              "      <td>2.738645e+06</td>\n",
              "    </tr>\n",
              "    <tr>\n",
              "      <th>50%</th>\n",
              "      <td>384.190000</td>\n",
              "      <td>387.875000</td>\n",
              "      <td>381.620000</td>\n",
              "      <td>384.730000</td>\n",
              "      <td>3.752634e+06</td>\n",
              "    </tr>\n",
              "    <tr>\n",
              "      <th>75%</th>\n",
              "      <td>996.550000</td>\n",
              "      <td>999.562500</td>\n",
              "      <td>986.776250</td>\n",
              "      <td>994.017500</td>\n",
              "      <td>5.309928e+06</td>\n",
              "    </tr>\n",
              "    <tr>\n",
              "      <th>max</th>\n",
              "      <td>2173.070000</td>\n",
              "      <td>2185.950000</td>\n",
              "      <td>2161.120000</td>\n",
              "      <td>2170.220000</td>\n",
              "      <td>4.239664e+07</td>\n",
              "    </tr>\n",
              "  </tbody>\n",
              "</table>\n",
              "</div>"
            ],
            "text/plain": [
              "              open         high          low        close        volume\n",
              "count  2576.000000  2576.000000  2576.000000  2576.000000  2.575000e+03\n",
              "mean    705.641877   712.583050   697.761387   705.529121  4.494003e+06\n",
              "std     604.834631   610.419779   598.188679   604.509759  2.858600e+06\n",
              "min     105.930000   111.290000   105.800000   108.610000  8.813370e+05\n",
              "25%     231.017500   234.692500   228.010000   231.785000  2.738645e+06\n",
              "50%     384.190000   387.875000   381.620000   384.730000  3.752634e+06\n",
              "75%     996.550000   999.562500   986.776250   994.017500  5.309928e+06\n",
              "max    2173.070000  2185.950000  2161.120000  2170.220000  4.239664e+07"
            ]
          },
          "metadata": {
            "tags": []
          },
          "execution_count": 10
        }
      ]
    },
    {
      "cell_type": "code",
      "metadata": {
        "id": "FUXIRiXcXAcA",
        "colab_type": "code",
        "colab": {
          "base_uri": "https://localhost:8080/",
          "height": 222
        },
        "outputId": "a4b5b99f-0635-4e55-b01f-3b707f4ec169"
      },
      "source": [
        "df.describe().T"
      ],
      "execution_count": 11,
      "outputs": [
        {
          "output_type": "execute_result",
          "data": {
            "text/html": [
              "<div>\n",
              "<style scoped>\n",
              "    .dataframe tbody tr th:only-of-type {\n",
              "        vertical-align: middle;\n",
              "    }\n",
              "\n",
              "    .dataframe tbody tr th {\n",
              "        vertical-align: top;\n",
              "    }\n",
              "\n",
              "    .dataframe thead th {\n",
              "        text-align: right;\n",
              "    }\n",
              "</style>\n",
              "<table border=\"1\" class=\"dataframe\">\n",
              "  <thead>\n",
              "    <tr style=\"text-align: right;\">\n",
              "      <th></th>\n",
              "      <th>count</th>\n",
              "      <th>mean</th>\n",
              "      <th>std</th>\n",
              "      <th>min</th>\n",
              "      <th>25%</th>\n",
              "      <th>50%</th>\n",
              "      <th>75%</th>\n",
              "      <th>max</th>\n",
              "    </tr>\n",
              "  </thead>\n",
              "  <tbody>\n",
              "    <tr>\n",
              "      <th>open</th>\n",
              "      <td>2576.0</td>\n",
              "      <td>7.056419e+02</td>\n",
              "      <td>6.048346e+02</td>\n",
              "      <td>105.93</td>\n",
              "      <td>2.310175e+02</td>\n",
              "      <td>384.190</td>\n",
              "      <td>9.965500e+02</td>\n",
              "      <td>2173.07</td>\n",
              "    </tr>\n",
              "    <tr>\n",
              "      <th>high</th>\n",
              "      <td>2576.0</td>\n",
              "      <td>7.125830e+02</td>\n",
              "      <td>6.104198e+02</td>\n",
              "      <td>111.29</td>\n",
              "      <td>2.346925e+02</td>\n",
              "      <td>387.875</td>\n",
              "      <td>9.995625e+02</td>\n",
              "      <td>2185.95</td>\n",
              "    </tr>\n",
              "    <tr>\n",
              "      <th>low</th>\n",
              "      <td>2576.0</td>\n",
              "      <td>6.977614e+02</td>\n",
              "      <td>5.981887e+02</td>\n",
              "      <td>105.80</td>\n",
              "      <td>2.280100e+02</td>\n",
              "      <td>381.620</td>\n",
              "      <td>9.867763e+02</td>\n",
              "      <td>2161.12</td>\n",
              "    </tr>\n",
              "    <tr>\n",
              "      <th>close</th>\n",
              "      <td>2576.0</td>\n",
              "      <td>7.055291e+02</td>\n",
              "      <td>6.045098e+02</td>\n",
              "      <td>108.61</td>\n",
              "      <td>2.317850e+02</td>\n",
              "      <td>384.730</td>\n",
              "      <td>9.940175e+02</td>\n",
              "      <td>2170.22</td>\n",
              "    </tr>\n",
              "    <tr>\n",
              "      <th>volume</th>\n",
              "      <td>2575.0</td>\n",
              "      <td>4.494003e+06</td>\n",
              "      <td>2.858600e+06</td>\n",
              "      <td>881337.00</td>\n",
              "      <td>2.738645e+06</td>\n",
              "      <td>3752634.000</td>\n",
              "      <td>5.309928e+06</td>\n",
              "      <td>42396643.00</td>\n",
              "    </tr>\n",
              "  </tbody>\n",
              "</table>\n",
              "</div>"
            ],
            "text/plain": [
              "         count          mean  ...           75%          max\n",
              "open    2576.0  7.056419e+02  ...  9.965500e+02      2173.07\n",
              "high    2576.0  7.125830e+02  ...  9.995625e+02      2185.95\n",
              "low     2576.0  6.977614e+02  ...  9.867763e+02      2161.12\n",
              "close   2576.0  7.055291e+02  ...  9.940175e+02      2170.22\n",
              "volume  2575.0  4.494003e+06  ...  5.309928e+06  42396643.00\n",
              "\n",
              "[5 rows x 8 columns]"
            ]
          },
          "metadata": {
            "tags": []
          },
          "execution_count": 11
        }
      ]
    },
    {
      "cell_type": "markdown",
      "metadata": {
        "id": "BjmsEci2XfT9",
        "colab_type": "text"
      },
      "source": [
        "Columns' selection"
      ]
    },
    {
      "cell_type": "code",
      "metadata": {
        "id": "EaWnjClPXfDv",
        "colab_type": "code",
        "colab": {
          "base_uri": "https://localhost:8080/",
          "height": 386
        },
        "outputId": "2e86368e-0de8-4e58-bc6a-90244e466a71"
      },
      "source": [
        "df = df.head(10)\n",
        "df"
      ],
      "execution_count": 12,
      "outputs": [
        {
          "output_type": "execute_result",
          "data": {
            "text/html": [
              "<div>\n",
              "<style scoped>\n",
              "    .dataframe tbody tr th:only-of-type {\n",
              "        vertical-align: middle;\n",
              "    }\n",
              "\n",
              "    .dataframe tbody tr th {\n",
              "        vertical-align: top;\n",
              "    }\n",
              "\n",
              "    .dataframe thead th {\n",
              "        text-align: right;\n",
              "    }\n",
              "</style>\n",
              "<table border=\"1\" class=\"dataframe\">\n",
              "  <thead>\n",
              "    <tr style=\"text-align: right;\">\n",
              "      <th></th>\n",
              "      <th>open</th>\n",
              "      <th>high</th>\n",
              "      <th>low</th>\n",
              "      <th>close</th>\n",
              "      <th>volume</th>\n",
              "    </tr>\n",
              "    <tr>\n",
              "      <th>Date</th>\n",
              "      <th></th>\n",
              "      <th></th>\n",
              "      <th></th>\n",
              "      <th></th>\n",
              "      <th></th>\n",
              "    </tr>\n",
              "  </thead>\n",
              "  <tbody>\n",
              "    <tr>\n",
              "      <th>2020-03-27</th>\n",
              "      <td>1930.860</td>\n",
              "      <td>1939.7900</td>\n",
              "      <td>1899.9200</td>\n",
              "      <td>1900.10</td>\n",
              "      <td>5387897.0</td>\n",
              "    </tr>\n",
              "    <tr>\n",
              "      <th>2020-03-26</th>\n",
              "      <td>1902.000</td>\n",
              "      <td>1956.4900</td>\n",
              "      <td>1889.2900</td>\n",
              "      <td>1955.49</td>\n",
              "      <td>6235118.0</td>\n",
              "    </tr>\n",
              "    <tr>\n",
              "      <th>2020-03-25</th>\n",
              "      <td>1920.690</td>\n",
              "      <td>1950.2600</td>\n",
              "      <td>1885.7800</td>\n",
              "      <td>1885.84</td>\n",
              "      <td>6479073.0</td>\n",
              "    </tr>\n",
              "    <tr>\n",
              "      <th>2020-03-24</th>\n",
              "      <td>1951.495</td>\n",
              "      <td>1955.0000</td>\n",
              "      <td>1900.3403</td>\n",
              "      <td>1940.10</td>\n",
              "      <td>7147080.0</td>\n",
              "    </tr>\n",
              "    <tr>\n",
              "      <th>2020-03-23</th>\n",
              "      <td>1827.750</td>\n",
              "      <td>1919.4000</td>\n",
              "      <td>1812.0000</td>\n",
              "      <td>1902.83</td>\n",
              "      <td>7808489.0</td>\n",
              "    </tr>\n",
              "    <tr>\n",
              "      <th>2020-03-20</th>\n",
              "      <td>1926.310</td>\n",
              "      <td>1957.0000</td>\n",
              "      <td>1820.7300</td>\n",
              "      <td>1846.09</td>\n",
              "      <td>9817850.0</td>\n",
              "    </tr>\n",
              "    <tr>\n",
              "      <th>2020-03-19</th>\n",
              "      <td>1860.000</td>\n",
              "      <td>1945.0000</td>\n",
              "      <td>1832.6500</td>\n",
              "      <td>1880.93</td>\n",
              "      <td>10399943.0</td>\n",
              "    </tr>\n",
              "    <tr>\n",
              "      <th>2020-03-18</th>\n",
              "      <td>1750.000</td>\n",
              "      <td>1841.6600</td>\n",
              "      <td>1745.0000</td>\n",
              "      <td>1830.00</td>\n",
              "      <td>9645218.0</td>\n",
              "    </tr>\n",
              "    <tr>\n",
              "      <th>2020-03-17</th>\n",
              "      <td>1775.470</td>\n",
              "      <td>1857.7750</td>\n",
              "      <td>1689.2402</td>\n",
              "      <td>1807.84</td>\n",
              "      <td>10917129.0</td>\n",
              "    </tr>\n",
              "    <tr>\n",
              "      <th>2020-03-16</th>\n",
              "      <td>1641.510</td>\n",
              "      <td>1759.4519</td>\n",
              "      <td>1626.0318</td>\n",
              "      <td>1689.15</td>\n",
              "      <td>8917265.0</td>\n",
              "    </tr>\n",
              "  </tbody>\n",
              "</table>\n",
              "</div>"
            ],
            "text/plain": [
              "                open       high        low    close      volume\n",
              "Date                                                           \n",
              "2020-03-27  1930.860  1939.7900  1899.9200  1900.10   5387897.0\n",
              "2020-03-26  1902.000  1956.4900  1889.2900  1955.49   6235118.0\n",
              "2020-03-25  1920.690  1950.2600  1885.7800  1885.84   6479073.0\n",
              "2020-03-24  1951.495  1955.0000  1900.3403  1940.10   7147080.0\n",
              "2020-03-23  1827.750  1919.4000  1812.0000  1902.83   7808489.0\n",
              "2020-03-20  1926.310  1957.0000  1820.7300  1846.09   9817850.0\n",
              "2020-03-19  1860.000  1945.0000  1832.6500  1880.93  10399943.0\n",
              "2020-03-18  1750.000  1841.6600  1745.0000  1830.00   9645218.0\n",
              "2020-03-17  1775.470  1857.7750  1689.2402  1807.84  10917129.0\n",
              "2020-03-16  1641.510  1759.4519  1626.0318  1689.15   8917265.0"
            ]
          },
          "metadata": {
            "tags": []
          },
          "execution_count": 12
        }
      ]
    },
    {
      "cell_type": "code",
      "metadata": {
        "id": "bdgsXsgTXAZR",
        "colab_type": "code",
        "colab": {
          "base_uri": "https://localhost:8080/",
          "height": 225
        },
        "outputId": "9075a17f-caa1-4364-a793-630fa3e4303f"
      },
      "source": [
        "df['open']"
      ],
      "execution_count": 13,
      "outputs": [
        {
          "output_type": "execute_result",
          "data": {
            "text/plain": [
              "Date\n",
              "2020-03-27    1930.860\n",
              "2020-03-26    1902.000\n",
              "2020-03-25    1920.690\n",
              "2020-03-24    1951.495\n",
              "2020-03-23    1827.750\n",
              "2020-03-20    1926.310\n",
              "2020-03-19    1860.000\n",
              "2020-03-18    1750.000\n",
              "2020-03-17    1775.470\n",
              "2020-03-16    1641.510\n",
              "Name: open, dtype: float64"
            ]
          },
          "metadata": {
            "tags": []
          },
          "execution_count": 13
        }
      ]
    },
    {
      "cell_type": "code",
      "metadata": {
        "id": "fIxB5HoAXAWW",
        "colab_type": "code",
        "colab": {
          "base_uri": "https://localhost:8080/",
          "height": 225
        },
        "outputId": "9c1e1610-7bc7-4e4a-8ac0-1a6099bbac4e"
      },
      "source": [
        "df.open"
      ],
      "execution_count": 15,
      "outputs": [
        {
          "output_type": "execute_result",
          "data": {
            "text/plain": [
              "Date\n",
              "2020-03-27    1930.860\n",
              "2020-03-26    1902.000\n",
              "2020-03-25    1920.690\n",
              "2020-03-24    1951.495\n",
              "2020-03-23    1827.750\n",
              "2020-03-20    1926.310\n",
              "2020-03-19    1860.000\n",
              "2020-03-18    1750.000\n",
              "2020-03-17    1775.470\n",
              "2020-03-16    1641.510\n",
              "Name: open, dtype: float64"
            ]
          },
          "metadata": {
            "tags": []
          },
          "execution_count": 15
        }
      ]
    },
    {
      "cell_type": "code",
      "metadata": {
        "id": "Px4rDrKrXAQM",
        "colab_type": "code",
        "colab": {
          "base_uri": "https://localhost:8080/",
          "height": 386
        },
        "outputId": "f0ef43ce-98c0-480f-a05f-4e515a349385"
      },
      "source": [
        "df[['open']]"
      ],
      "execution_count": 16,
      "outputs": [
        {
          "output_type": "execute_result",
          "data": {
            "text/html": [
              "<div>\n",
              "<style scoped>\n",
              "    .dataframe tbody tr th:only-of-type {\n",
              "        vertical-align: middle;\n",
              "    }\n",
              "\n",
              "    .dataframe tbody tr th {\n",
              "        vertical-align: top;\n",
              "    }\n",
              "\n",
              "    .dataframe thead th {\n",
              "        text-align: right;\n",
              "    }\n",
              "</style>\n",
              "<table border=\"1\" class=\"dataframe\">\n",
              "  <thead>\n",
              "    <tr style=\"text-align: right;\">\n",
              "      <th></th>\n",
              "      <th>open</th>\n",
              "    </tr>\n",
              "    <tr>\n",
              "      <th>Date</th>\n",
              "      <th></th>\n",
              "    </tr>\n",
              "  </thead>\n",
              "  <tbody>\n",
              "    <tr>\n",
              "      <th>2020-03-27</th>\n",
              "      <td>1930.860</td>\n",
              "    </tr>\n",
              "    <tr>\n",
              "      <th>2020-03-26</th>\n",
              "      <td>1902.000</td>\n",
              "    </tr>\n",
              "    <tr>\n",
              "      <th>2020-03-25</th>\n",
              "      <td>1920.690</td>\n",
              "    </tr>\n",
              "    <tr>\n",
              "      <th>2020-03-24</th>\n",
              "      <td>1951.495</td>\n",
              "    </tr>\n",
              "    <tr>\n",
              "      <th>2020-03-23</th>\n",
              "      <td>1827.750</td>\n",
              "    </tr>\n",
              "    <tr>\n",
              "      <th>2020-03-20</th>\n",
              "      <td>1926.310</td>\n",
              "    </tr>\n",
              "    <tr>\n",
              "      <th>2020-03-19</th>\n",
              "      <td>1860.000</td>\n",
              "    </tr>\n",
              "    <tr>\n",
              "      <th>2020-03-18</th>\n",
              "      <td>1750.000</td>\n",
              "    </tr>\n",
              "    <tr>\n",
              "      <th>2020-03-17</th>\n",
              "      <td>1775.470</td>\n",
              "    </tr>\n",
              "    <tr>\n",
              "      <th>2020-03-16</th>\n",
              "      <td>1641.510</td>\n",
              "    </tr>\n",
              "  </tbody>\n",
              "</table>\n",
              "</div>"
            ],
            "text/plain": [
              "                open\n",
              "Date                \n",
              "2020-03-27  1930.860\n",
              "2020-03-26  1902.000\n",
              "2020-03-25  1920.690\n",
              "2020-03-24  1951.495\n",
              "2020-03-23  1827.750\n",
              "2020-03-20  1926.310\n",
              "2020-03-19  1860.000\n",
              "2020-03-18  1750.000\n",
              "2020-03-17  1775.470\n",
              "2020-03-16  1641.510"
            ]
          },
          "metadata": {
            "tags": []
          },
          "execution_count": 16
        }
      ]
    },
    {
      "cell_type": "code",
      "metadata": {
        "id": "eMBbmGWnXAFJ",
        "colab_type": "code",
        "colab": {
          "base_uri": "https://localhost:8080/",
          "height": 386
        },
        "outputId": "35933e18-59a9-4dd9-e9e6-64e89d23f450"
      },
      "source": [
        "df[['open', 'close']]"
      ],
      "execution_count": 17,
      "outputs": [
        {
          "output_type": "execute_result",
          "data": {
            "text/html": [
              "<div>\n",
              "<style scoped>\n",
              "    .dataframe tbody tr th:only-of-type {\n",
              "        vertical-align: middle;\n",
              "    }\n",
              "\n",
              "    .dataframe tbody tr th {\n",
              "        vertical-align: top;\n",
              "    }\n",
              "\n",
              "    .dataframe thead th {\n",
              "        text-align: right;\n",
              "    }\n",
              "</style>\n",
              "<table border=\"1\" class=\"dataframe\">\n",
              "  <thead>\n",
              "    <tr style=\"text-align: right;\">\n",
              "      <th></th>\n",
              "      <th>open</th>\n",
              "      <th>close</th>\n",
              "    </tr>\n",
              "    <tr>\n",
              "      <th>Date</th>\n",
              "      <th></th>\n",
              "      <th></th>\n",
              "    </tr>\n",
              "  </thead>\n",
              "  <tbody>\n",
              "    <tr>\n",
              "      <th>2020-03-27</th>\n",
              "      <td>1930.860</td>\n",
              "      <td>1900.10</td>\n",
              "    </tr>\n",
              "    <tr>\n",
              "      <th>2020-03-26</th>\n",
              "      <td>1902.000</td>\n",
              "      <td>1955.49</td>\n",
              "    </tr>\n",
              "    <tr>\n",
              "      <th>2020-03-25</th>\n",
              "      <td>1920.690</td>\n",
              "      <td>1885.84</td>\n",
              "    </tr>\n",
              "    <tr>\n",
              "      <th>2020-03-24</th>\n",
              "      <td>1951.495</td>\n",
              "      <td>1940.10</td>\n",
              "    </tr>\n",
              "    <tr>\n",
              "      <th>2020-03-23</th>\n",
              "      <td>1827.750</td>\n",
              "      <td>1902.83</td>\n",
              "    </tr>\n",
              "    <tr>\n",
              "      <th>2020-03-20</th>\n",
              "      <td>1926.310</td>\n",
              "      <td>1846.09</td>\n",
              "    </tr>\n",
              "    <tr>\n",
              "      <th>2020-03-19</th>\n",
              "      <td>1860.000</td>\n",
              "      <td>1880.93</td>\n",
              "    </tr>\n",
              "    <tr>\n",
              "      <th>2020-03-18</th>\n",
              "      <td>1750.000</td>\n",
              "      <td>1830.00</td>\n",
              "    </tr>\n",
              "    <tr>\n",
              "      <th>2020-03-17</th>\n",
              "      <td>1775.470</td>\n",
              "      <td>1807.84</td>\n",
              "    </tr>\n",
              "    <tr>\n",
              "      <th>2020-03-16</th>\n",
              "      <td>1641.510</td>\n",
              "      <td>1689.15</td>\n",
              "    </tr>\n",
              "  </tbody>\n",
              "</table>\n",
              "</div>"
            ],
            "text/plain": [
              "                open    close\n",
              "Date                         \n",
              "2020-03-27  1930.860  1900.10\n",
              "2020-03-26  1902.000  1955.49\n",
              "2020-03-25  1920.690  1885.84\n",
              "2020-03-24  1951.495  1940.10\n",
              "2020-03-23  1827.750  1902.83\n",
              "2020-03-20  1926.310  1846.09\n",
              "2020-03-19  1860.000  1880.93\n",
              "2020-03-18  1750.000  1830.00\n",
              "2020-03-17  1775.470  1807.84\n",
              "2020-03-16  1641.510  1689.15"
            ]
          },
          "metadata": {
            "tags": []
          },
          "execution_count": 17
        }
      ]
    },
    {
      "cell_type": "code",
      "metadata": {
        "id": "lKLFZ_2QX0Wi",
        "colab_type": "code",
        "colab": {
          "base_uri": "https://localhost:8080/",
          "height": 386
        },
        "outputId": "faffa6b9-f9e5-4048-eecc-9a59ff3308c4"
      },
      "source": [
        "df.iloc[:, [0, 3]]"
      ],
      "execution_count": 19,
      "outputs": [
        {
          "output_type": "execute_result",
          "data": {
            "text/html": [
              "<div>\n",
              "<style scoped>\n",
              "    .dataframe tbody tr th:only-of-type {\n",
              "        vertical-align: middle;\n",
              "    }\n",
              "\n",
              "    .dataframe tbody tr th {\n",
              "        vertical-align: top;\n",
              "    }\n",
              "\n",
              "    .dataframe thead th {\n",
              "        text-align: right;\n",
              "    }\n",
              "</style>\n",
              "<table border=\"1\" class=\"dataframe\">\n",
              "  <thead>\n",
              "    <tr style=\"text-align: right;\">\n",
              "      <th></th>\n",
              "      <th>open</th>\n",
              "      <th>close</th>\n",
              "    </tr>\n",
              "    <tr>\n",
              "      <th>Date</th>\n",
              "      <th></th>\n",
              "      <th></th>\n",
              "    </tr>\n",
              "  </thead>\n",
              "  <tbody>\n",
              "    <tr>\n",
              "      <th>2020-03-27</th>\n",
              "      <td>1930.860</td>\n",
              "      <td>1900.10</td>\n",
              "    </tr>\n",
              "    <tr>\n",
              "      <th>2020-03-26</th>\n",
              "      <td>1902.000</td>\n",
              "      <td>1955.49</td>\n",
              "    </tr>\n",
              "    <tr>\n",
              "      <th>2020-03-25</th>\n",
              "      <td>1920.690</td>\n",
              "      <td>1885.84</td>\n",
              "    </tr>\n",
              "    <tr>\n",
              "      <th>2020-03-24</th>\n",
              "      <td>1951.495</td>\n",
              "      <td>1940.10</td>\n",
              "    </tr>\n",
              "    <tr>\n",
              "      <th>2020-03-23</th>\n",
              "      <td>1827.750</td>\n",
              "      <td>1902.83</td>\n",
              "    </tr>\n",
              "    <tr>\n",
              "      <th>2020-03-20</th>\n",
              "      <td>1926.310</td>\n",
              "      <td>1846.09</td>\n",
              "    </tr>\n",
              "    <tr>\n",
              "      <th>2020-03-19</th>\n",
              "      <td>1860.000</td>\n",
              "      <td>1880.93</td>\n",
              "    </tr>\n",
              "    <tr>\n",
              "      <th>2020-03-18</th>\n",
              "      <td>1750.000</td>\n",
              "      <td>1830.00</td>\n",
              "    </tr>\n",
              "    <tr>\n",
              "      <th>2020-03-17</th>\n",
              "      <td>1775.470</td>\n",
              "      <td>1807.84</td>\n",
              "    </tr>\n",
              "    <tr>\n",
              "      <th>2020-03-16</th>\n",
              "      <td>1641.510</td>\n",
              "      <td>1689.15</td>\n",
              "    </tr>\n",
              "  </tbody>\n",
              "</table>\n",
              "</div>"
            ],
            "text/plain": [
              "                open    close\n",
              "Date                         \n",
              "2020-03-27  1930.860  1900.10\n",
              "2020-03-26  1902.000  1955.49\n",
              "2020-03-25  1920.690  1885.84\n",
              "2020-03-24  1951.495  1940.10\n",
              "2020-03-23  1827.750  1902.83\n",
              "2020-03-20  1926.310  1846.09\n",
              "2020-03-19  1860.000  1880.93\n",
              "2020-03-18  1750.000  1830.00\n",
              "2020-03-17  1775.470  1807.84\n",
              "2020-03-16  1641.510  1689.15"
            ]
          },
          "metadata": {
            "tags": []
          },
          "execution_count": 19
        }
      ]
    },
    {
      "cell_type": "code",
      "metadata": {
        "id": "r67fAMtpX00Q",
        "colab_type": "code",
        "colab": {
          "base_uri": "https://localhost:8080/",
          "height": 386
        },
        "outputId": "4f84ab7e-5b61-4596-cef5-b26771aa8a9f"
      },
      "source": [
        "df.iloc[:, 3:5]"
      ],
      "execution_count": 20,
      "outputs": [
        {
          "output_type": "execute_result",
          "data": {
            "text/html": [
              "<div>\n",
              "<style scoped>\n",
              "    .dataframe tbody tr th:only-of-type {\n",
              "        vertical-align: middle;\n",
              "    }\n",
              "\n",
              "    .dataframe tbody tr th {\n",
              "        vertical-align: top;\n",
              "    }\n",
              "\n",
              "    .dataframe thead th {\n",
              "        text-align: right;\n",
              "    }\n",
              "</style>\n",
              "<table border=\"1\" class=\"dataframe\">\n",
              "  <thead>\n",
              "    <tr style=\"text-align: right;\">\n",
              "      <th></th>\n",
              "      <th>close</th>\n",
              "      <th>volume</th>\n",
              "    </tr>\n",
              "    <tr>\n",
              "      <th>Date</th>\n",
              "      <th></th>\n",
              "      <th></th>\n",
              "    </tr>\n",
              "  </thead>\n",
              "  <tbody>\n",
              "    <tr>\n",
              "      <th>2020-03-27</th>\n",
              "      <td>1900.10</td>\n",
              "      <td>5387897.0</td>\n",
              "    </tr>\n",
              "    <tr>\n",
              "      <th>2020-03-26</th>\n",
              "      <td>1955.49</td>\n",
              "      <td>6235118.0</td>\n",
              "    </tr>\n",
              "    <tr>\n",
              "      <th>2020-03-25</th>\n",
              "      <td>1885.84</td>\n",
              "      <td>6479073.0</td>\n",
              "    </tr>\n",
              "    <tr>\n",
              "      <th>2020-03-24</th>\n",
              "      <td>1940.10</td>\n",
              "      <td>7147080.0</td>\n",
              "    </tr>\n",
              "    <tr>\n",
              "      <th>2020-03-23</th>\n",
              "      <td>1902.83</td>\n",
              "      <td>7808489.0</td>\n",
              "    </tr>\n",
              "    <tr>\n",
              "      <th>2020-03-20</th>\n",
              "      <td>1846.09</td>\n",
              "      <td>9817850.0</td>\n",
              "    </tr>\n",
              "    <tr>\n",
              "      <th>2020-03-19</th>\n",
              "      <td>1880.93</td>\n",
              "      <td>10399943.0</td>\n",
              "    </tr>\n",
              "    <tr>\n",
              "      <th>2020-03-18</th>\n",
              "      <td>1830.00</td>\n",
              "      <td>9645218.0</td>\n",
              "    </tr>\n",
              "    <tr>\n",
              "      <th>2020-03-17</th>\n",
              "      <td>1807.84</td>\n",
              "      <td>10917129.0</td>\n",
              "    </tr>\n",
              "    <tr>\n",
              "      <th>2020-03-16</th>\n",
              "      <td>1689.15</td>\n",
              "      <td>8917265.0</td>\n",
              "    </tr>\n",
              "  </tbody>\n",
              "</table>\n",
              "</div>"
            ],
            "text/plain": [
              "              close      volume\n",
              "Date                           \n",
              "2020-03-27  1900.10   5387897.0\n",
              "2020-03-26  1955.49   6235118.0\n",
              "2020-03-25  1885.84   6479073.0\n",
              "2020-03-24  1940.10   7147080.0\n",
              "2020-03-23  1902.83   7808489.0\n",
              "2020-03-20  1846.09   9817850.0\n",
              "2020-03-19  1880.93  10399943.0\n",
              "2020-03-18  1830.00   9645218.0\n",
              "2020-03-17  1807.84  10917129.0\n",
              "2020-03-16  1689.15   8917265.0"
            ]
          },
          "metadata": {
            "tags": []
          },
          "execution_count": 20
        }
      ]
    },
    {
      "cell_type": "code",
      "metadata": {
        "id": "VCBiysVkX09B",
        "colab_type": "code",
        "colab": {
          "base_uri": "https://localhost:8080/",
          "height": 386
        },
        "outputId": "5eeb6ea3-b8bf-4213-a140-4c82c66e055c"
      },
      "source": [
        "df.iloc[:, [-1]] # lub może być df.iloc[:, -1]"
      ],
      "execution_count": 22,
      "outputs": [
        {
          "output_type": "execute_result",
          "data": {
            "text/html": [
              "<div>\n",
              "<style scoped>\n",
              "    .dataframe tbody tr th:only-of-type {\n",
              "        vertical-align: middle;\n",
              "    }\n",
              "\n",
              "    .dataframe tbody tr th {\n",
              "        vertical-align: top;\n",
              "    }\n",
              "\n",
              "    .dataframe thead th {\n",
              "        text-align: right;\n",
              "    }\n",
              "</style>\n",
              "<table border=\"1\" class=\"dataframe\">\n",
              "  <thead>\n",
              "    <tr style=\"text-align: right;\">\n",
              "      <th></th>\n",
              "      <th>volume</th>\n",
              "    </tr>\n",
              "    <tr>\n",
              "      <th>Date</th>\n",
              "      <th></th>\n",
              "    </tr>\n",
              "  </thead>\n",
              "  <tbody>\n",
              "    <tr>\n",
              "      <th>2020-03-27</th>\n",
              "      <td>5387897.0</td>\n",
              "    </tr>\n",
              "    <tr>\n",
              "      <th>2020-03-26</th>\n",
              "      <td>6235118.0</td>\n",
              "    </tr>\n",
              "    <tr>\n",
              "      <th>2020-03-25</th>\n",
              "      <td>6479073.0</td>\n",
              "    </tr>\n",
              "    <tr>\n",
              "      <th>2020-03-24</th>\n",
              "      <td>7147080.0</td>\n",
              "    </tr>\n",
              "    <tr>\n",
              "      <th>2020-03-23</th>\n",
              "      <td>7808489.0</td>\n",
              "    </tr>\n",
              "    <tr>\n",
              "      <th>2020-03-20</th>\n",
              "      <td>9817850.0</td>\n",
              "    </tr>\n",
              "    <tr>\n",
              "      <th>2020-03-19</th>\n",
              "      <td>10399943.0</td>\n",
              "    </tr>\n",
              "    <tr>\n",
              "      <th>2020-03-18</th>\n",
              "      <td>9645218.0</td>\n",
              "    </tr>\n",
              "    <tr>\n",
              "      <th>2020-03-17</th>\n",
              "      <td>10917129.0</td>\n",
              "    </tr>\n",
              "    <tr>\n",
              "      <th>2020-03-16</th>\n",
              "      <td>8917265.0</td>\n",
              "    </tr>\n",
              "  </tbody>\n",
              "</table>\n",
              "</div>"
            ],
            "text/plain": [
              "                volume\n",
              "Date                  \n",
              "2020-03-27   5387897.0\n",
              "2020-03-26   6235118.0\n",
              "2020-03-25   6479073.0\n",
              "2020-03-24   7147080.0\n",
              "2020-03-23   7808489.0\n",
              "2020-03-20   9817850.0\n",
              "2020-03-19  10399943.0\n",
              "2020-03-18   9645218.0\n",
              "2020-03-17  10917129.0\n",
              "2020-03-16   8917265.0"
            ]
          },
          "metadata": {
            "tags": []
          },
          "execution_count": 22
        }
      ]
    },
    {
      "cell_type": "markdown",
      "metadata": {
        "id": "DOUSEvswYoIZ",
        "colab_type": "text"
      },
      "source": [
        "Rows' selection"
      ]
    },
    {
      "cell_type": "code",
      "metadata": {
        "id": "SRTGFoMtYoNk",
        "colab_type": "code",
        "colab": {
          "base_uri": "https://localhost:8080/",
          "height": 386
        },
        "outputId": "7319ea4e-f7cb-4539-f796-83af327bc354"
      },
      "source": [
        "df"
      ],
      "execution_count": 23,
      "outputs": [
        {
          "output_type": "execute_result",
          "data": {
            "text/html": [
              "<div>\n",
              "<style scoped>\n",
              "    .dataframe tbody tr th:only-of-type {\n",
              "        vertical-align: middle;\n",
              "    }\n",
              "\n",
              "    .dataframe tbody tr th {\n",
              "        vertical-align: top;\n",
              "    }\n",
              "\n",
              "    .dataframe thead th {\n",
              "        text-align: right;\n",
              "    }\n",
              "</style>\n",
              "<table border=\"1\" class=\"dataframe\">\n",
              "  <thead>\n",
              "    <tr style=\"text-align: right;\">\n",
              "      <th></th>\n",
              "      <th>open</th>\n",
              "      <th>high</th>\n",
              "      <th>low</th>\n",
              "      <th>close</th>\n",
              "      <th>volume</th>\n",
              "    </tr>\n",
              "    <tr>\n",
              "      <th>Date</th>\n",
              "      <th></th>\n",
              "      <th></th>\n",
              "      <th></th>\n",
              "      <th></th>\n",
              "      <th></th>\n",
              "    </tr>\n",
              "  </thead>\n",
              "  <tbody>\n",
              "    <tr>\n",
              "      <th>2020-03-27</th>\n",
              "      <td>1930.860</td>\n",
              "      <td>1939.7900</td>\n",
              "      <td>1899.9200</td>\n",
              "      <td>1900.10</td>\n",
              "      <td>5387897.0</td>\n",
              "    </tr>\n",
              "    <tr>\n",
              "      <th>2020-03-26</th>\n",
              "      <td>1902.000</td>\n",
              "      <td>1956.4900</td>\n",
              "      <td>1889.2900</td>\n",
              "      <td>1955.49</td>\n",
              "      <td>6235118.0</td>\n",
              "    </tr>\n",
              "    <tr>\n",
              "      <th>2020-03-25</th>\n",
              "      <td>1920.690</td>\n",
              "      <td>1950.2600</td>\n",
              "      <td>1885.7800</td>\n",
              "      <td>1885.84</td>\n",
              "      <td>6479073.0</td>\n",
              "    </tr>\n",
              "    <tr>\n",
              "      <th>2020-03-24</th>\n",
              "      <td>1951.495</td>\n",
              "      <td>1955.0000</td>\n",
              "      <td>1900.3403</td>\n",
              "      <td>1940.10</td>\n",
              "      <td>7147080.0</td>\n",
              "    </tr>\n",
              "    <tr>\n",
              "      <th>2020-03-23</th>\n",
              "      <td>1827.750</td>\n",
              "      <td>1919.4000</td>\n",
              "      <td>1812.0000</td>\n",
              "      <td>1902.83</td>\n",
              "      <td>7808489.0</td>\n",
              "    </tr>\n",
              "    <tr>\n",
              "      <th>2020-03-20</th>\n",
              "      <td>1926.310</td>\n",
              "      <td>1957.0000</td>\n",
              "      <td>1820.7300</td>\n",
              "      <td>1846.09</td>\n",
              "      <td>9817850.0</td>\n",
              "    </tr>\n",
              "    <tr>\n",
              "      <th>2020-03-19</th>\n",
              "      <td>1860.000</td>\n",
              "      <td>1945.0000</td>\n",
              "      <td>1832.6500</td>\n",
              "      <td>1880.93</td>\n",
              "      <td>10399943.0</td>\n",
              "    </tr>\n",
              "    <tr>\n",
              "      <th>2020-03-18</th>\n",
              "      <td>1750.000</td>\n",
              "      <td>1841.6600</td>\n",
              "      <td>1745.0000</td>\n",
              "      <td>1830.00</td>\n",
              "      <td>9645218.0</td>\n",
              "    </tr>\n",
              "    <tr>\n",
              "      <th>2020-03-17</th>\n",
              "      <td>1775.470</td>\n",
              "      <td>1857.7750</td>\n",
              "      <td>1689.2402</td>\n",
              "      <td>1807.84</td>\n",
              "      <td>10917129.0</td>\n",
              "    </tr>\n",
              "    <tr>\n",
              "      <th>2020-03-16</th>\n",
              "      <td>1641.510</td>\n",
              "      <td>1759.4519</td>\n",
              "      <td>1626.0318</td>\n",
              "      <td>1689.15</td>\n",
              "      <td>8917265.0</td>\n",
              "    </tr>\n",
              "  </tbody>\n",
              "</table>\n",
              "</div>"
            ],
            "text/plain": [
              "                open       high        low    close      volume\n",
              "Date                                                           \n",
              "2020-03-27  1930.860  1939.7900  1899.9200  1900.10   5387897.0\n",
              "2020-03-26  1902.000  1956.4900  1889.2900  1955.49   6235118.0\n",
              "2020-03-25  1920.690  1950.2600  1885.7800  1885.84   6479073.0\n",
              "2020-03-24  1951.495  1955.0000  1900.3403  1940.10   7147080.0\n",
              "2020-03-23  1827.750  1919.4000  1812.0000  1902.83   7808489.0\n",
              "2020-03-20  1926.310  1957.0000  1820.7300  1846.09   9817850.0\n",
              "2020-03-19  1860.000  1945.0000  1832.6500  1880.93  10399943.0\n",
              "2020-03-18  1750.000  1841.6600  1745.0000  1830.00   9645218.0\n",
              "2020-03-17  1775.470  1857.7750  1689.2402  1807.84  10917129.0\n",
              "2020-03-16  1641.510  1759.4519  1626.0318  1689.15   8917265.0"
            ]
          },
          "metadata": {
            "tags": []
          },
          "execution_count": 23
        }
      ]
    },
    {
      "cell_type": "code",
      "metadata": {
        "id": "AHlZ6o3XYoS7",
        "colab_type": "code",
        "colab": {
          "base_uri": "https://localhost:8080/",
          "height": 110
        },
        "outputId": "893fe2df-df44-4e05-e7a0-eb43d103a0b2"
      },
      "source": [
        "df.iloc[[0]]"
      ],
      "execution_count": 25,
      "outputs": [
        {
          "output_type": "execute_result",
          "data": {
            "text/html": [
              "<div>\n",
              "<style scoped>\n",
              "    .dataframe tbody tr th:only-of-type {\n",
              "        vertical-align: middle;\n",
              "    }\n",
              "\n",
              "    .dataframe tbody tr th {\n",
              "        vertical-align: top;\n",
              "    }\n",
              "\n",
              "    .dataframe thead th {\n",
              "        text-align: right;\n",
              "    }\n",
              "</style>\n",
              "<table border=\"1\" class=\"dataframe\">\n",
              "  <thead>\n",
              "    <tr style=\"text-align: right;\">\n",
              "      <th></th>\n",
              "      <th>open</th>\n",
              "      <th>high</th>\n",
              "      <th>low</th>\n",
              "      <th>close</th>\n",
              "      <th>volume</th>\n",
              "    </tr>\n",
              "    <tr>\n",
              "      <th>Date</th>\n",
              "      <th></th>\n",
              "      <th></th>\n",
              "      <th></th>\n",
              "      <th></th>\n",
              "      <th></th>\n",
              "    </tr>\n",
              "  </thead>\n",
              "  <tbody>\n",
              "    <tr>\n",
              "      <th>2020-03-27</th>\n",
              "      <td>1930.86</td>\n",
              "      <td>1939.79</td>\n",
              "      <td>1899.92</td>\n",
              "      <td>1900.1</td>\n",
              "      <td>5387897.0</td>\n",
              "    </tr>\n",
              "  </tbody>\n",
              "</table>\n",
              "</div>"
            ],
            "text/plain": [
              "               open     high      low   close     volume\n",
              "Date                                                    \n",
              "2020-03-27  1930.86  1939.79  1899.92  1900.1  5387897.0"
            ]
          },
          "metadata": {
            "tags": []
          },
          "execution_count": 25
        }
      ]
    },
    {
      "cell_type": "code",
      "metadata": {
        "id": "WrHiUda2Y6UA",
        "colab_type": "code",
        "colab": {
          "base_uri": "https://localhost:8080/",
          "height": 171
        },
        "outputId": "581a5a0d-594b-4c24-ec65-fd38a194df72"
      },
      "source": [
        "df[:3]"
      ],
      "execution_count": 30,
      "outputs": [
        {
          "output_type": "execute_result",
          "data": {
            "text/html": [
              "<div>\n",
              "<style scoped>\n",
              "    .dataframe tbody tr th:only-of-type {\n",
              "        vertical-align: middle;\n",
              "    }\n",
              "\n",
              "    .dataframe tbody tr th {\n",
              "        vertical-align: top;\n",
              "    }\n",
              "\n",
              "    .dataframe thead th {\n",
              "        text-align: right;\n",
              "    }\n",
              "</style>\n",
              "<table border=\"1\" class=\"dataframe\">\n",
              "  <thead>\n",
              "    <tr style=\"text-align: right;\">\n",
              "      <th></th>\n",
              "      <th>open</th>\n",
              "      <th>high</th>\n",
              "      <th>low</th>\n",
              "      <th>close</th>\n",
              "      <th>volume</th>\n",
              "    </tr>\n",
              "    <tr>\n",
              "      <th>Date</th>\n",
              "      <th></th>\n",
              "      <th></th>\n",
              "      <th></th>\n",
              "      <th></th>\n",
              "      <th></th>\n",
              "    </tr>\n",
              "  </thead>\n",
              "  <tbody>\n",
              "    <tr>\n",
              "      <th>2020-03-27</th>\n",
              "      <td>1930.86</td>\n",
              "      <td>1939.79</td>\n",
              "      <td>1899.92</td>\n",
              "      <td>1900.10</td>\n",
              "      <td>5387897.0</td>\n",
              "    </tr>\n",
              "    <tr>\n",
              "      <th>2020-03-26</th>\n",
              "      <td>1902.00</td>\n",
              "      <td>1956.49</td>\n",
              "      <td>1889.29</td>\n",
              "      <td>1955.49</td>\n",
              "      <td>6235118.0</td>\n",
              "    </tr>\n",
              "    <tr>\n",
              "      <th>2020-03-25</th>\n",
              "      <td>1920.69</td>\n",
              "      <td>1950.26</td>\n",
              "      <td>1885.78</td>\n",
              "      <td>1885.84</td>\n",
              "      <td>6479073.0</td>\n",
              "    </tr>\n",
              "  </tbody>\n",
              "</table>\n",
              "</div>"
            ],
            "text/plain": [
              "               open     high      low    close     volume\n",
              "Date                                                     \n",
              "2020-03-27  1930.86  1939.79  1899.92  1900.10  5387897.0\n",
              "2020-03-26  1902.00  1956.49  1889.29  1955.49  6235118.0\n",
              "2020-03-25  1920.69  1950.26  1885.78  1885.84  6479073.0"
            ]
          },
          "metadata": {
            "tags": []
          },
          "execution_count": 30
        }
      ]
    },
    {
      "cell_type": "code",
      "metadata": {
        "id": "Bjmg1PkYZCRV",
        "colab_type": "code",
        "colab": {
          "base_uri": "https://localhost:8080/",
          "height": 171
        },
        "outputId": "1b8d99f0-f2b8-4367-cf94-0bb1d11d5dd8"
      },
      "source": [
        "df.iloc[:3]"
      ],
      "execution_count": 33,
      "outputs": [
        {
          "output_type": "execute_result",
          "data": {
            "text/html": [
              "<div>\n",
              "<style scoped>\n",
              "    .dataframe tbody tr th:only-of-type {\n",
              "        vertical-align: middle;\n",
              "    }\n",
              "\n",
              "    .dataframe tbody tr th {\n",
              "        vertical-align: top;\n",
              "    }\n",
              "\n",
              "    .dataframe thead th {\n",
              "        text-align: right;\n",
              "    }\n",
              "</style>\n",
              "<table border=\"1\" class=\"dataframe\">\n",
              "  <thead>\n",
              "    <tr style=\"text-align: right;\">\n",
              "      <th></th>\n",
              "      <th>open</th>\n",
              "      <th>high</th>\n",
              "      <th>low</th>\n",
              "      <th>close</th>\n",
              "      <th>volume</th>\n",
              "    </tr>\n",
              "    <tr>\n",
              "      <th>Date</th>\n",
              "      <th></th>\n",
              "      <th></th>\n",
              "      <th></th>\n",
              "      <th></th>\n",
              "      <th></th>\n",
              "    </tr>\n",
              "  </thead>\n",
              "  <tbody>\n",
              "    <tr>\n",
              "      <th>2020-03-27</th>\n",
              "      <td>1930.86</td>\n",
              "      <td>1939.79</td>\n",
              "      <td>1899.92</td>\n",
              "      <td>1900.10</td>\n",
              "      <td>5387897.0</td>\n",
              "    </tr>\n",
              "    <tr>\n",
              "      <th>2020-03-26</th>\n",
              "      <td>1902.00</td>\n",
              "      <td>1956.49</td>\n",
              "      <td>1889.29</td>\n",
              "      <td>1955.49</td>\n",
              "      <td>6235118.0</td>\n",
              "    </tr>\n",
              "    <tr>\n",
              "      <th>2020-03-25</th>\n",
              "      <td>1920.69</td>\n",
              "      <td>1950.26</td>\n",
              "      <td>1885.78</td>\n",
              "      <td>1885.84</td>\n",
              "      <td>6479073.0</td>\n",
              "    </tr>\n",
              "  </tbody>\n",
              "</table>\n",
              "</div>"
            ],
            "text/plain": [
              "               open     high      low    close     volume\n",
              "Date                                                     \n",
              "2020-03-27  1930.86  1939.79  1899.92  1900.10  5387897.0\n",
              "2020-03-26  1902.00  1956.49  1889.29  1955.49  6235118.0\n",
              "2020-03-25  1920.69  1950.26  1885.78  1885.84  6479073.0"
            ]
          },
          "metadata": {
            "tags": []
          },
          "execution_count": 33
        }
      ]
    },
    {
      "cell_type": "code",
      "metadata": {
        "id": "E329tfxtZGBs",
        "colab_type": "code",
        "colab": {
          "base_uri": "https://localhost:8080/",
          "height": 79
        },
        "outputId": "19b53163-40bb-45f2-d7e5-7115888a3474"
      },
      "source": [
        "df.loc['2019-12-10' : '2019-12-02']"
      ],
      "execution_count": 37,
      "outputs": [
        {
          "output_type": "execute_result",
          "data": {
            "text/html": [
              "<div>\n",
              "<style scoped>\n",
              "    .dataframe tbody tr th:only-of-type {\n",
              "        vertical-align: middle;\n",
              "    }\n",
              "\n",
              "    .dataframe tbody tr th {\n",
              "        vertical-align: top;\n",
              "    }\n",
              "\n",
              "    .dataframe thead th {\n",
              "        text-align: right;\n",
              "    }\n",
              "</style>\n",
              "<table border=\"1\" class=\"dataframe\">\n",
              "  <thead>\n",
              "    <tr style=\"text-align: right;\">\n",
              "      <th></th>\n",
              "      <th>open</th>\n",
              "      <th>high</th>\n",
              "      <th>low</th>\n",
              "      <th>close</th>\n",
              "      <th>volume</th>\n",
              "    </tr>\n",
              "    <tr>\n",
              "      <th>Date</th>\n",
              "      <th></th>\n",
              "      <th></th>\n",
              "      <th></th>\n",
              "      <th></th>\n",
              "      <th></th>\n",
              "    </tr>\n",
              "  </thead>\n",
              "  <tbody>\n",
              "  </tbody>\n",
              "</table>\n",
              "</div>"
            ],
            "text/plain": [
              "Empty DataFrame\n",
              "Columns: [open, high, low, close, volume]\n",
              "Index: []"
            ]
          },
          "metadata": {
            "tags": []
          },
          "execution_count": 37
        }
      ]
    },
    {
      "cell_type": "markdown",
      "metadata": {
        "id": "xBp2KI29ZvwH",
        "colab_type": "text"
      },
      "source": [
        "New columns"
      ]
    },
    {
      "cell_type": "code",
      "metadata": {
        "id": "JVw1yn8-Zv0G",
        "colab_type": "code",
        "colab": {
          "base_uri": "https://localhost:8080/",
          "height": 191
        },
        "outputId": "4af00a98-8a41-4c3a-a688-60a0749009cb"
      },
      "source": [
        "df = fetch_financial_data(company='UBER')\n",
        "df.info()"
      ],
      "execution_count": 40,
      "outputs": [
        {
          "output_type": "stream",
          "text": [
            "<class 'pandas.core.frame.DataFrame'>\n",
            "DatetimeIndex: 223 entries, 2020-03-27 to 2019-05-10\n",
            "Data columns (total 5 columns):\n",
            "Open      223 non-null float64\n",
            "High      223 non-null float64\n",
            "Low       223 non-null float64\n",
            "Close     223 non-null float64\n",
            "Volume    223 non-null int64\n",
            "dtypes: float64(4), int64(1)\n",
            "memory usage: 10.5 KB\n"
          ],
          "name": "stdout"
        }
      ]
    },
    {
      "cell_type": "code",
      "metadata": {
        "id": "mSKv2NqUZv4E",
        "colab_type": "code",
        "colab": {
          "base_uri": "https://localhost:8080/",
          "height": 233
        },
        "outputId": "9f468052-080c-4219-cb50-e6834c7654a9"
      },
      "source": [
        "df.head()"
      ],
      "execution_count": 42,
      "outputs": [
        {
          "output_type": "execute_result",
          "data": {
            "text/html": [
              "<div>\n",
              "<style scoped>\n",
              "    .dataframe tbody tr th:only-of-type {\n",
              "        vertical-align: middle;\n",
              "    }\n",
              "\n",
              "    .dataframe tbody tr th {\n",
              "        vertical-align: top;\n",
              "    }\n",
              "\n",
              "    .dataframe thead th {\n",
              "        text-align: right;\n",
              "    }\n",
              "</style>\n",
              "<table border=\"1\" class=\"dataframe\">\n",
              "  <thead>\n",
              "    <tr style=\"text-align: right;\">\n",
              "      <th></th>\n",
              "      <th>Open</th>\n",
              "      <th>High</th>\n",
              "      <th>Low</th>\n",
              "      <th>Close</th>\n",
              "      <th>Volume</th>\n",
              "    </tr>\n",
              "    <tr>\n",
              "      <th>Date</th>\n",
              "      <th></th>\n",
              "      <th></th>\n",
              "      <th></th>\n",
              "      <th></th>\n",
              "      <th></th>\n",
              "    </tr>\n",
              "  </thead>\n",
              "  <tbody>\n",
              "    <tr>\n",
              "      <th>2020-03-27</th>\n",
              "      <td>25.82</td>\n",
              "      <td>28.03</td>\n",
              "      <td>25.0700</td>\n",
              "      <td>27.28</td>\n",
              "      <td>40292212</td>\n",
              "    </tr>\n",
              "    <tr>\n",
              "      <th>2020-03-26</th>\n",
              "      <td>26.60</td>\n",
              "      <td>28.44</td>\n",
              "      <td>25.7800</td>\n",
              "      <td>28.12</td>\n",
              "      <td>41370842</td>\n",
              "    </tr>\n",
              "    <tr>\n",
              "      <th>2020-03-25</th>\n",
              "      <td>26.18</td>\n",
              "      <td>28.45</td>\n",
              "      <td>25.3104</td>\n",
              "      <td>26.19</td>\n",
              "      <td>52473945</td>\n",
              "    </tr>\n",
              "    <tr>\n",
              "      <th>2020-03-24</th>\n",
              "      <td>24.41</td>\n",
              "      <td>26.84</td>\n",
              "      <td>23.5900</td>\n",
              "      <td>26.39</td>\n",
              "      <td>58505016</td>\n",
              "    </tr>\n",
              "    <tr>\n",
              "      <th>2020-03-23</th>\n",
              "      <td>21.07</td>\n",
              "      <td>22.73</td>\n",
              "      <td>19.7300</td>\n",
              "      <td>22.40</td>\n",
              "      <td>47787094</td>\n",
              "    </tr>\n",
              "  </tbody>\n",
              "</table>\n",
              "</div>"
            ],
            "text/plain": [
              "             Open   High      Low  Close    Volume\n",
              "Date                                              \n",
              "2020-03-27  25.82  28.03  25.0700  27.28  40292212\n",
              "2020-03-26  26.60  28.44  25.7800  28.12  41370842\n",
              "2020-03-25  26.18  28.45  25.3104  26.19  52473945\n",
              "2020-03-24  24.41  26.84  23.5900  26.39  58505016\n",
              "2020-03-23  21.07  22.73  19.7300  22.40  47787094"
            ]
          },
          "metadata": {
            "tags": []
          },
          "execution_count": 42
        }
      ]
    },
    {
      "cell_type": "code",
      "metadata": {
        "id": "VWd0LRfSas4e",
        "colab_type": "code",
        "colab": {
          "base_uri": "https://localhost:8080/",
          "height": 294
        },
        "outputId": "4f962da4-bba0-460d-9b77-95ca1f622cae"
      },
      "source": [
        "df.describe()"
      ],
      "execution_count": 43,
      "outputs": [
        {
          "output_type": "execute_result",
          "data": {
            "text/html": [
              "<div>\n",
              "<style scoped>\n",
              "    .dataframe tbody tr th:only-of-type {\n",
              "        vertical-align: middle;\n",
              "    }\n",
              "\n",
              "    .dataframe tbody tr th {\n",
              "        vertical-align: top;\n",
              "    }\n",
              "\n",
              "    .dataframe thead th {\n",
              "        text-align: right;\n",
              "    }\n",
              "</style>\n",
              "<table border=\"1\" class=\"dataframe\">\n",
              "  <thead>\n",
              "    <tr style=\"text-align: right;\">\n",
              "      <th></th>\n",
              "      <th>Open</th>\n",
              "      <th>High</th>\n",
              "      <th>Low</th>\n",
              "      <th>Close</th>\n",
              "      <th>Volume</th>\n",
              "    </tr>\n",
              "  </thead>\n",
              "  <tbody>\n",
              "    <tr>\n",
              "      <th>count</th>\n",
              "      <td>223.000000</td>\n",
              "      <td>223.000000</td>\n",
              "      <td>223.000000</td>\n",
              "      <td>223.000000</td>\n",
              "      <td>2.230000e+02</td>\n",
              "    </tr>\n",
              "    <tr>\n",
              "      <th>mean</th>\n",
              "      <td>34.925330</td>\n",
              "      <td>35.604221</td>\n",
              "      <td>34.111167</td>\n",
              "      <td>34.874888</td>\n",
              "      <td>2.426557e+07</td>\n",
              "    </tr>\n",
              "    <tr>\n",
              "      <th>std</th>\n",
              "      <td>6.376021</td>\n",
              "      <td>6.297634</td>\n",
              "      <td>6.389511</td>\n",
              "      <td>6.302113</td>\n",
              "      <td>2.290677e+07</td>\n",
              "    </tr>\n",
              "    <tr>\n",
              "      <th>min</th>\n",
              "      <td>15.960000</td>\n",
              "      <td>17.800000</td>\n",
              "      <td>13.710000</td>\n",
              "      <td>14.820000</td>\n",
              "      <td>3.380003e+06</td>\n",
              "    </tr>\n",
              "    <tr>\n",
              "      <th>25%</th>\n",
              "      <td>30.115000</td>\n",
              "      <td>30.465000</td>\n",
              "      <td>29.530050</td>\n",
              "      <td>30.130000</td>\n",
              "      <td>8.150926e+06</td>\n",
              "    </tr>\n",
              "    <tr>\n",
              "      <th>50%</th>\n",
              "      <td>34.020000</td>\n",
              "      <td>34.486200</td>\n",
              "      <td>33.060000</td>\n",
              "      <td>33.930000</td>\n",
              "      <td>1.846596e+07</td>\n",
              "    </tr>\n",
              "    <tr>\n",
              "      <th>75%</th>\n",
              "      <td>40.845000</td>\n",
              "      <td>41.402500</td>\n",
              "      <td>40.010000</td>\n",
              "      <td>40.935000</td>\n",
              "      <td>3.385642e+07</td>\n",
              "    </tr>\n",
              "    <tr>\n",
              "      <th>max</th>\n",
              "      <td>46.980000</td>\n",
              "      <td>47.080000</td>\n",
              "      <td>45.080000</td>\n",
              "      <td>46.380000</td>\n",
              "      <td>1.863225e+08</td>\n",
              "    </tr>\n",
              "  </tbody>\n",
              "</table>\n",
              "</div>"
            ],
            "text/plain": [
              "             Open        High         Low       Close        Volume\n",
              "count  223.000000  223.000000  223.000000  223.000000  2.230000e+02\n",
              "mean    34.925330   35.604221   34.111167   34.874888  2.426557e+07\n",
              "std      6.376021    6.297634    6.389511    6.302113  2.290677e+07\n",
              "min     15.960000   17.800000   13.710000   14.820000  3.380003e+06\n",
              "25%     30.115000   30.465000   29.530050   30.130000  8.150926e+06\n",
              "50%     34.020000   34.486200   33.060000   33.930000  1.846596e+07\n",
              "75%     40.845000   41.402500   40.010000   40.935000  3.385642e+07\n",
              "max     46.980000   47.080000   45.080000   46.380000  1.863225e+08"
            ]
          },
          "metadata": {
            "tags": []
          },
          "execution_count": 43
        }
      ]
    },
    {
      "cell_type": "code",
      "metadata": {
        "id": "R6tktcOpas0A",
        "colab_type": "code",
        "colab": {
          "base_uri": "https://localhost:8080/",
          "height": 171
        },
        "outputId": "d3cf560c-cea5-409d-90ae-8d58028d4ff0"
      },
      "source": [
        "df.head(3)"
      ],
      "execution_count": 44,
      "outputs": [
        {
          "output_type": "execute_result",
          "data": {
            "text/html": [
              "<div>\n",
              "<style scoped>\n",
              "    .dataframe tbody tr th:only-of-type {\n",
              "        vertical-align: middle;\n",
              "    }\n",
              "\n",
              "    .dataframe tbody tr th {\n",
              "        vertical-align: top;\n",
              "    }\n",
              "\n",
              "    .dataframe thead th {\n",
              "        text-align: right;\n",
              "    }\n",
              "</style>\n",
              "<table border=\"1\" class=\"dataframe\">\n",
              "  <thead>\n",
              "    <tr style=\"text-align: right;\">\n",
              "      <th></th>\n",
              "      <th>Open</th>\n",
              "      <th>High</th>\n",
              "      <th>Low</th>\n",
              "      <th>Close</th>\n",
              "      <th>Volume</th>\n",
              "    </tr>\n",
              "    <tr>\n",
              "      <th>Date</th>\n",
              "      <th></th>\n",
              "      <th></th>\n",
              "      <th></th>\n",
              "      <th></th>\n",
              "      <th></th>\n",
              "    </tr>\n",
              "  </thead>\n",
              "  <tbody>\n",
              "    <tr>\n",
              "      <th>2020-03-27</th>\n",
              "      <td>25.82</td>\n",
              "      <td>28.03</td>\n",
              "      <td>25.0700</td>\n",
              "      <td>27.28</td>\n",
              "      <td>40292212</td>\n",
              "    </tr>\n",
              "    <tr>\n",
              "      <th>2020-03-26</th>\n",
              "      <td>26.60</td>\n",
              "      <td>28.44</td>\n",
              "      <td>25.7800</td>\n",
              "      <td>28.12</td>\n",
              "      <td>41370842</td>\n",
              "    </tr>\n",
              "    <tr>\n",
              "      <th>2020-03-25</th>\n",
              "      <td>26.18</td>\n",
              "      <td>28.45</td>\n",
              "      <td>25.3104</td>\n",
              "      <td>26.19</td>\n",
              "      <td>52473945</td>\n",
              "    </tr>\n",
              "  </tbody>\n",
              "</table>\n",
              "</div>"
            ],
            "text/plain": [
              "             Open   High      Low  Close    Volume\n",
              "Date                                              \n",
              "2020-03-27  25.82  28.03  25.0700  27.28  40292212\n",
              "2020-03-26  26.60  28.44  25.7800  28.12  41370842\n",
              "2020-03-25  26.18  28.45  25.3104  26.19  52473945"
            ]
          },
          "metadata": {
            "tags": []
          },
          "execution_count": 44
        }
      ]
    },
    {
      "cell_type": "code",
      "metadata": {
        "id": "Bvl2CnxubNb2",
        "colab_type": "code",
        "colab": {
          "base_uri": "https://localhost:8080/",
          "height": 446
        },
        "outputId": "c6f82aaa-9260-4d9c-f6b0-ce9f3bfaebf3"
      },
      "source": [
        "df.columns = [col.lower() for col in df.columns]\n",
        "df"
      ],
      "execution_count": 47,
      "outputs": [
        {
          "output_type": "execute_result",
          "data": {
            "text/html": [
              "<div>\n",
              "<style scoped>\n",
              "    .dataframe tbody tr th:only-of-type {\n",
              "        vertical-align: middle;\n",
              "    }\n",
              "\n",
              "    .dataframe tbody tr th {\n",
              "        vertical-align: top;\n",
              "    }\n",
              "\n",
              "    .dataframe thead th {\n",
              "        text-align: right;\n",
              "    }\n",
              "</style>\n",
              "<table border=\"1\" class=\"dataframe\">\n",
              "  <thead>\n",
              "    <tr style=\"text-align: right;\">\n",
              "      <th></th>\n",
              "      <th>open</th>\n",
              "      <th>high</th>\n",
              "      <th>low</th>\n",
              "      <th>close</th>\n",
              "      <th>volume</th>\n",
              "      <th>mean_price</th>\n",
              "    </tr>\n",
              "    <tr>\n",
              "      <th>Date</th>\n",
              "      <th></th>\n",
              "      <th></th>\n",
              "      <th></th>\n",
              "      <th></th>\n",
              "      <th></th>\n",
              "      <th></th>\n",
              "    </tr>\n",
              "  </thead>\n",
              "  <tbody>\n",
              "    <tr>\n",
              "      <th>2020-03-27</th>\n",
              "      <td>25.82</td>\n",
              "      <td>28.03</td>\n",
              "      <td>25.0700</td>\n",
              "      <td>27.28</td>\n",
              "      <td>40292212</td>\n",
              "      <td>26.550</td>\n",
              "    </tr>\n",
              "    <tr>\n",
              "      <th>2020-03-26</th>\n",
              "      <td>26.60</td>\n",
              "      <td>28.44</td>\n",
              "      <td>25.7800</td>\n",
              "      <td>28.12</td>\n",
              "      <td>41370842</td>\n",
              "      <td>27.360</td>\n",
              "    </tr>\n",
              "    <tr>\n",
              "      <th>2020-03-25</th>\n",
              "      <td>26.18</td>\n",
              "      <td>28.45</td>\n",
              "      <td>25.3104</td>\n",
              "      <td>26.19</td>\n",
              "      <td>52473945</td>\n",
              "      <td>26.185</td>\n",
              "    </tr>\n",
              "    <tr>\n",
              "      <th>2020-03-24</th>\n",
              "      <td>24.41</td>\n",
              "      <td>26.84</td>\n",
              "      <td>23.5900</td>\n",
              "      <td>26.39</td>\n",
              "      <td>58505016</td>\n",
              "      <td>25.400</td>\n",
              "    </tr>\n",
              "    <tr>\n",
              "      <th>2020-03-23</th>\n",
              "      <td>21.07</td>\n",
              "      <td>22.73</td>\n",
              "      <td>19.7300</td>\n",
              "      <td>22.40</td>\n",
              "      <td>47787094</td>\n",
              "      <td>21.735</td>\n",
              "    </tr>\n",
              "    <tr>\n",
              "      <th>...</th>\n",
              "      <td>...</td>\n",
              "      <td>...</td>\n",
              "      <td>...</td>\n",
              "      <td>...</td>\n",
              "      <td>...</td>\n",
              "      <td>...</td>\n",
              "    </tr>\n",
              "    <tr>\n",
              "      <th>2019-05-16</th>\n",
              "      <td>41.48</td>\n",
              "      <td>44.06</td>\n",
              "      <td>41.2500</td>\n",
              "      <td>43.00</td>\n",
              "      <td>38115524</td>\n",
              "      <td>42.240</td>\n",
              "    </tr>\n",
              "    <tr>\n",
              "      <th>2019-05-15</th>\n",
              "      <td>39.37</td>\n",
              "      <td>41.88</td>\n",
              "      <td>38.9500</td>\n",
              "      <td>41.29</td>\n",
              "      <td>36086065</td>\n",
              "      <td>40.330</td>\n",
              "    </tr>\n",
              "    <tr>\n",
              "      <th>2019-05-14</th>\n",
              "      <td>38.31</td>\n",
              "      <td>39.96</td>\n",
              "      <td>36.8500</td>\n",
              "      <td>39.96</td>\n",
              "      <td>46661147</td>\n",
              "      <td>39.135</td>\n",
              "    </tr>\n",
              "    <tr>\n",
              "      <th>2019-05-13</th>\n",
              "      <td>38.79</td>\n",
              "      <td>39.24</td>\n",
              "      <td>36.0800</td>\n",
              "      <td>37.10</td>\n",
              "      <td>79442420</td>\n",
              "      <td>37.945</td>\n",
              "    </tr>\n",
              "    <tr>\n",
              "      <th>2019-05-10</th>\n",
              "      <td>42.00</td>\n",
              "      <td>45.00</td>\n",
              "      <td>41.0600</td>\n",
              "      <td>41.57</td>\n",
              "      <td>186322536</td>\n",
              "      <td>41.785</td>\n",
              "    </tr>\n",
              "  </tbody>\n",
              "</table>\n",
              "<p>223 rows × 6 columns</p>\n",
              "</div>"
            ],
            "text/plain": [
              "             open   high      low  close     volume  mean_price\n",
              "Date                                                           \n",
              "2020-03-27  25.82  28.03  25.0700  27.28   40292212      26.550\n",
              "2020-03-26  26.60  28.44  25.7800  28.12   41370842      27.360\n",
              "2020-03-25  26.18  28.45  25.3104  26.19   52473945      26.185\n",
              "2020-03-24  24.41  26.84  23.5900  26.39   58505016      25.400\n",
              "2020-03-23  21.07  22.73  19.7300  22.40   47787094      21.735\n",
              "...           ...    ...      ...    ...        ...         ...\n",
              "2019-05-16  41.48  44.06  41.2500  43.00   38115524      42.240\n",
              "2019-05-15  39.37  41.88  38.9500  41.29   36086065      40.330\n",
              "2019-05-14  38.31  39.96  36.8500  39.96   46661147      39.135\n",
              "2019-05-13  38.79  39.24  36.0800  37.10   79442420      37.945\n",
              "2019-05-10  42.00  45.00  41.0600  41.57  186322536      41.785\n",
              "\n",
              "[223 rows x 6 columns]"
            ]
          },
          "metadata": {
            "tags": []
          },
          "execution_count": 47
        }
      ]
    },
    {
      "cell_type": "code",
      "metadata": {
        "id": "oUQ1k9m8asvl",
        "colab_type": "code",
        "colab": {
          "base_uri": "https://localhost:8080/",
          "height": 446
        },
        "outputId": "551d0c16-ee20-4c1a-d52b-062b467e6c7a"
      },
      "source": [
        "df['mean_price'] = (df.open + df.close)/2\n",
        "df"
      ],
      "execution_count": 48,
      "outputs": [
        {
          "output_type": "execute_result",
          "data": {
            "text/html": [
              "<div>\n",
              "<style scoped>\n",
              "    .dataframe tbody tr th:only-of-type {\n",
              "        vertical-align: middle;\n",
              "    }\n",
              "\n",
              "    .dataframe tbody tr th {\n",
              "        vertical-align: top;\n",
              "    }\n",
              "\n",
              "    .dataframe thead th {\n",
              "        text-align: right;\n",
              "    }\n",
              "</style>\n",
              "<table border=\"1\" class=\"dataframe\">\n",
              "  <thead>\n",
              "    <tr style=\"text-align: right;\">\n",
              "      <th></th>\n",
              "      <th>open</th>\n",
              "      <th>high</th>\n",
              "      <th>low</th>\n",
              "      <th>close</th>\n",
              "      <th>volume</th>\n",
              "      <th>mean_price</th>\n",
              "    </tr>\n",
              "    <tr>\n",
              "      <th>Date</th>\n",
              "      <th></th>\n",
              "      <th></th>\n",
              "      <th></th>\n",
              "      <th></th>\n",
              "      <th></th>\n",
              "      <th></th>\n",
              "    </tr>\n",
              "  </thead>\n",
              "  <tbody>\n",
              "    <tr>\n",
              "      <th>2020-03-27</th>\n",
              "      <td>25.82</td>\n",
              "      <td>28.03</td>\n",
              "      <td>25.0700</td>\n",
              "      <td>27.28</td>\n",
              "      <td>40292212</td>\n",
              "      <td>26.550</td>\n",
              "    </tr>\n",
              "    <tr>\n",
              "      <th>2020-03-26</th>\n",
              "      <td>26.60</td>\n",
              "      <td>28.44</td>\n",
              "      <td>25.7800</td>\n",
              "      <td>28.12</td>\n",
              "      <td>41370842</td>\n",
              "      <td>27.360</td>\n",
              "    </tr>\n",
              "    <tr>\n",
              "      <th>2020-03-25</th>\n",
              "      <td>26.18</td>\n",
              "      <td>28.45</td>\n",
              "      <td>25.3104</td>\n",
              "      <td>26.19</td>\n",
              "      <td>52473945</td>\n",
              "      <td>26.185</td>\n",
              "    </tr>\n",
              "    <tr>\n",
              "      <th>2020-03-24</th>\n",
              "      <td>24.41</td>\n",
              "      <td>26.84</td>\n",
              "      <td>23.5900</td>\n",
              "      <td>26.39</td>\n",
              "      <td>58505016</td>\n",
              "      <td>25.400</td>\n",
              "    </tr>\n",
              "    <tr>\n",
              "      <th>2020-03-23</th>\n",
              "      <td>21.07</td>\n",
              "      <td>22.73</td>\n",
              "      <td>19.7300</td>\n",
              "      <td>22.40</td>\n",
              "      <td>47787094</td>\n",
              "      <td>21.735</td>\n",
              "    </tr>\n",
              "    <tr>\n",
              "      <th>...</th>\n",
              "      <td>...</td>\n",
              "      <td>...</td>\n",
              "      <td>...</td>\n",
              "      <td>...</td>\n",
              "      <td>...</td>\n",
              "      <td>...</td>\n",
              "    </tr>\n",
              "    <tr>\n",
              "      <th>2019-05-16</th>\n",
              "      <td>41.48</td>\n",
              "      <td>44.06</td>\n",
              "      <td>41.2500</td>\n",
              "      <td>43.00</td>\n",
              "      <td>38115524</td>\n",
              "      <td>42.240</td>\n",
              "    </tr>\n",
              "    <tr>\n",
              "      <th>2019-05-15</th>\n",
              "      <td>39.37</td>\n",
              "      <td>41.88</td>\n",
              "      <td>38.9500</td>\n",
              "      <td>41.29</td>\n",
              "      <td>36086065</td>\n",
              "      <td>40.330</td>\n",
              "    </tr>\n",
              "    <tr>\n",
              "      <th>2019-05-14</th>\n",
              "      <td>38.31</td>\n",
              "      <td>39.96</td>\n",
              "      <td>36.8500</td>\n",
              "      <td>39.96</td>\n",
              "      <td>46661147</td>\n",
              "      <td>39.135</td>\n",
              "    </tr>\n",
              "    <tr>\n",
              "      <th>2019-05-13</th>\n",
              "      <td>38.79</td>\n",
              "      <td>39.24</td>\n",
              "      <td>36.0800</td>\n",
              "      <td>37.10</td>\n",
              "      <td>79442420</td>\n",
              "      <td>37.945</td>\n",
              "    </tr>\n",
              "    <tr>\n",
              "      <th>2019-05-10</th>\n",
              "      <td>42.00</td>\n",
              "      <td>45.00</td>\n",
              "      <td>41.0600</td>\n",
              "      <td>41.57</td>\n",
              "      <td>186322536</td>\n",
              "      <td>41.785</td>\n",
              "    </tr>\n",
              "  </tbody>\n",
              "</table>\n",
              "<p>223 rows × 6 columns</p>\n",
              "</div>"
            ],
            "text/plain": [
              "             open   high      low  close     volume  mean_price\n",
              "Date                                                           \n",
              "2020-03-27  25.82  28.03  25.0700  27.28   40292212      26.550\n",
              "2020-03-26  26.60  28.44  25.7800  28.12   41370842      27.360\n",
              "2020-03-25  26.18  28.45  25.3104  26.19   52473945      26.185\n",
              "2020-03-24  24.41  26.84  23.5900  26.39   58505016      25.400\n",
              "2020-03-23  21.07  22.73  19.7300  22.40   47787094      21.735\n",
              "...           ...    ...      ...    ...        ...         ...\n",
              "2019-05-16  41.48  44.06  41.2500  43.00   38115524      42.240\n",
              "2019-05-15  39.37  41.88  38.9500  41.29   36086065      40.330\n",
              "2019-05-14  38.31  39.96  36.8500  39.96   46661147      39.135\n",
              "2019-05-13  38.79  39.24  36.0800  37.10   79442420      37.945\n",
              "2019-05-10  42.00  45.00  41.0600  41.57  186322536      41.785\n",
              "\n",
              "[223 rows x 6 columns]"
            ]
          },
          "metadata": {
            "tags": []
          },
          "execution_count": 48
        }
      ]
    },
    {
      "cell_type": "code",
      "metadata": {
        "id": "fUjEMunnaspP",
        "colab_type": "code",
        "colab": {
          "base_uri": "https://localhost:8080/",
          "height": 233
        },
        "outputId": "cf0fc355-1fe3-4e62-f966-6ed33560f64c"
      },
      "source": [
        "df = df.sort_index()\n",
        "df.head()"
      ],
      "execution_count": 52,
      "outputs": [
        {
          "output_type": "execute_result",
          "data": {
            "text/html": [
              "<div>\n",
              "<style scoped>\n",
              "    .dataframe tbody tr th:only-of-type {\n",
              "        vertical-align: middle;\n",
              "    }\n",
              "\n",
              "    .dataframe tbody tr th {\n",
              "        vertical-align: top;\n",
              "    }\n",
              "\n",
              "    .dataframe thead th {\n",
              "        text-align: right;\n",
              "    }\n",
              "</style>\n",
              "<table border=\"1\" class=\"dataframe\">\n",
              "  <thead>\n",
              "    <tr style=\"text-align: right;\">\n",
              "      <th></th>\n",
              "      <th>open</th>\n",
              "      <th>high</th>\n",
              "      <th>low</th>\n",
              "      <th>close</th>\n",
              "      <th>volume</th>\n",
              "      <th>mean_price</th>\n",
              "    </tr>\n",
              "    <tr>\n",
              "      <th>Date</th>\n",
              "      <th></th>\n",
              "      <th></th>\n",
              "      <th></th>\n",
              "      <th></th>\n",
              "      <th></th>\n",
              "      <th></th>\n",
              "    </tr>\n",
              "  </thead>\n",
              "  <tbody>\n",
              "    <tr>\n",
              "      <th>2019-05-10</th>\n",
              "      <td>42.00</td>\n",
              "      <td>45.00</td>\n",
              "      <td>41.06</td>\n",
              "      <td>41.57</td>\n",
              "      <td>186322536</td>\n",
              "      <td>41.785</td>\n",
              "    </tr>\n",
              "    <tr>\n",
              "      <th>2019-05-13</th>\n",
              "      <td>38.79</td>\n",
              "      <td>39.24</td>\n",
              "      <td>36.08</td>\n",
              "      <td>37.10</td>\n",
              "      <td>79442420</td>\n",
              "      <td>37.945</td>\n",
              "    </tr>\n",
              "    <tr>\n",
              "      <th>2019-05-14</th>\n",
              "      <td>38.31</td>\n",
              "      <td>39.96</td>\n",
              "      <td>36.85</td>\n",
              "      <td>39.96</td>\n",
              "      <td>46661147</td>\n",
              "      <td>39.135</td>\n",
              "    </tr>\n",
              "    <tr>\n",
              "      <th>2019-05-15</th>\n",
              "      <td>39.37</td>\n",
              "      <td>41.88</td>\n",
              "      <td>38.95</td>\n",
              "      <td>41.29</td>\n",
              "      <td>36086065</td>\n",
              "      <td>40.330</td>\n",
              "    </tr>\n",
              "    <tr>\n",
              "      <th>2019-05-16</th>\n",
              "      <td>41.48</td>\n",
              "      <td>44.06</td>\n",
              "      <td>41.25</td>\n",
              "      <td>43.00</td>\n",
              "      <td>38115524</td>\n",
              "      <td>42.240</td>\n",
              "    </tr>\n",
              "  </tbody>\n",
              "</table>\n",
              "</div>"
            ],
            "text/plain": [
              "             open   high    low  close     volume  mean_price\n",
              "Date                                                         \n",
              "2019-05-10  42.00  45.00  41.06  41.57  186322536      41.785\n",
              "2019-05-13  38.79  39.24  36.08  37.10   79442420      37.945\n",
              "2019-05-14  38.31  39.96  36.85  39.96   46661147      39.135\n",
              "2019-05-15  39.37  41.88  38.95  41.29   36086065      40.330\n",
              "2019-05-16  41.48  44.06  41.25  43.00   38115524      42.240"
            ]
          },
          "metadata": {
            "tags": []
          },
          "execution_count": 52
        }
      ]
    },
    {
      "cell_type": "code",
      "metadata": {
        "id": "3cyuqFtJasgh",
        "colab_type": "code",
        "colab": {
          "base_uri": "https://localhost:8080/",
          "height": 446
        },
        "outputId": "a2459a1a-b716-4a6f-e65a-171799bb251c"
      },
      "source": [
        "df[['close']].shift(1) # przesuwa dane o jeden wiersz"
      ],
      "execution_count": 57,
      "outputs": [
        {
          "output_type": "execute_result",
          "data": {
            "text/html": [
              "<div>\n",
              "<style scoped>\n",
              "    .dataframe tbody tr th:only-of-type {\n",
              "        vertical-align: middle;\n",
              "    }\n",
              "\n",
              "    .dataframe tbody tr th {\n",
              "        vertical-align: top;\n",
              "    }\n",
              "\n",
              "    .dataframe thead th {\n",
              "        text-align: right;\n",
              "    }\n",
              "</style>\n",
              "<table border=\"1\" class=\"dataframe\">\n",
              "  <thead>\n",
              "    <tr style=\"text-align: right;\">\n",
              "      <th></th>\n",
              "      <th>close</th>\n",
              "    </tr>\n",
              "    <tr>\n",
              "      <th>Date</th>\n",
              "      <th></th>\n",
              "    </tr>\n",
              "  </thead>\n",
              "  <tbody>\n",
              "    <tr>\n",
              "      <th>2019-05-10</th>\n",
              "      <td>NaN</td>\n",
              "    </tr>\n",
              "    <tr>\n",
              "      <th>2019-05-13</th>\n",
              "      <td>41.57</td>\n",
              "    </tr>\n",
              "    <tr>\n",
              "      <th>2019-05-14</th>\n",
              "      <td>37.10</td>\n",
              "    </tr>\n",
              "    <tr>\n",
              "      <th>2019-05-15</th>\n",
              "      <td>39.96</td>\n",
              "    </tr>\n",
              "    <tr>\n",
              "      <th>2019-05-16</th>\n",
              "      <td>41.29</td>\n",
              "    </tr>\n",
              "    <tr>\n",
              "      <th>...</th>\n",
              "      <td>...</td>\n",
              "    </tr>\n",
              "    <tr>\n",
              "      <th>2020-03-23</th>\n",
              "      <td>21.33</td>\n",
              "    </tr>\n",
              "    <tr>\n",
              "      <th>2020-03-24</th>\n",
              "      <td>22.40</td>\n",
              "    </tr>\n",
              "    <tr>\n",
              "      <th>2020-03-25</th>\n",
              "      <td>26.39</td>\n",
              "    </tr>\n",
              "    <tr>\n",
              "      <th>2020-03-26</th>\n",
              "      <td>26.19</td>\n",
              "    </tr>\n",
              "    <tr>\n",
              "      <th>2020-03-27</th>\n",
              "      <td>28.12</td>\n",
              "    </tr>\n",
              "  </tbody>\n",
              "</table>\n",
              "<p>223 rows × 1 columns</p>\n",
              "</div>"
            ],
            "text/plain": [
              "            close\n",
              "Date             \n",
              "2019-05-10    NaN\n",
              "2019-05-13  41.57\n",
              "2019-05-14  37.10\n",
              "2019-05-15  39.96\n",
              "2019-05-16  41.29\n",
              "...           ...\n",
              "2020-03-23  21.33\n",
              "2020-03-24  22.40\n",
              "2020-03-25  26.39\n",
              "2020-03-26  26.19\n",
              "2020-03-27  28.12\n",
              "\n",
              "[223 rows x 1 columns]"
            ]
          },
          "metadata": {
            "tags": []
          },
          "execution_count": 57
        }
      ]
    },
    {
      "cell_type": "code",
      "metadata": {
        "id": "DZqQcddbasdX",
        "colab_type": "code",
        "colab": {
          "base_uri": "https://localhost:8080/",
          "height": 339
        },
        "outputId": "7cbbf248-f587-4208-d128-54305f0264fc"
      },
      "source": [
        "df['close_shift'] = df[['close']].shift(1)\n",
        "df.head()"
      ],
      "execution_count": 58,
      "outputs": [
        {
          "output_type": "execute_result",
          "data": {
            "text/html": [
              "<div>\n",
              "<style scoped>\n",
              "    .dataframe tbody tr th:only-of-type {\n",
              "        vertical-align: middle;\n",
              "    }\n",
              "\n",
              "    .dataframe tbody tr th {\n",
              "        vertical-align: top;\n",
              "    }\n",
              "\n",
              "    .dataframe thead th {\n",
              "        text-align: right;\n",
              "    }\n",
              "</style>\n",
              "<table border=\"1\" class=\"dataframe\">\n",
              "  <thead>\n",
              "    <tr style=\"text-align: right;\">\n",
              "      <th></th>\n",
              "      <th>open</th>\n",
              "      <th>high</th>\n",
              "      <th>low</th>\n",
              "      <th>close</th>\n",
              "      <th>volume</th>\n",
              "      <th>mean_price</th>\n",
              "      <th>daily_price_change</th>\n",
              "      <th>close_shift</th>\n",
              "    </tr>\n",
              "    <tr>\n",
              "      <th>Date</th>\n",
              "      <th></th>\n",
              "      <th></th>\n",
              "      <th></th>\n",
              "      <th></th>\n",
              "      <th></th>\n",
              "      <th></th>\n",
              "      <th></th>\n",
              "      <th></th>\n",
              "    </tr>\n",
              "  </thead>\n",
              "  <tbody>\n",
              "    <tr>\n",
              "      <th>2019-05-10</th>\n",
              "      <td>42.00</td>\n",
              "      <td>45.00</td>\n",
              "      <td>41.06</td>\n",
              "      <td>41.57</td>\n",
              "      <td>186322536</td>\n",
              "      <td>41.785</td>\n",
              "      <td>-1.023810</td>\n",
              "      <td>NaN</td>\n",
              "    </tr>\n",
              "    <tr>\n",
              "      <th>2019-05-13</th>\n",
              "      <td>38.79</td>\n",
              "      <td>39.24</td>\n",
              "      <td>36.08</td>\n",
              "      <td>37.10</td>\n",
              "      <td>79442420</td>\n",
              "      <td>37.945</td>\n",
              "      <td>-4.356793</td>\n",
              "      <td>41.57</td>\n",
              "    </tr>\n",
              "    <tr>\n",
              "      <th>2019-05-14</th>\n",
              "      <td>38.31</td>\n",
              "      <td>39.96</td>\n",
              "      <td>36.85</td>\n",
              "      <td>39.96</td>\n",
              "      <td>46661147</td>\n",
              "      <td>39.135</td>\n",
              "      <td>4.306969</td>\n",
              "      <td>37.10</td>\n",
              "    </tr>\n",
              "    <tr>\n",
              "      <th>2019-05-15</th>\n",
              "      <td>39.37</td>\n",
              "      <td>41.88</td>\n",
              "      <td>38.95</td>\n",
              "      <td>41.29</td>\n",
              "      <td>36086065</td>\n",
              "      <td>40.330</td>\n",
              "      <td>4.876810</td>\n",
              "      <td>39.96</td>\n",
              "    </tr>\n",
              "    <tr>\n",
              "      <th>2019-05-16</th>\n",
              "      <td>41.48</td>\n",
              "      <td>44.06</td>\n",
              "      <td>41.25</td>\n",
              "      <td>43.00</td>\n",
              "      <td>38115524</td>\n",
              "      <td>42.240</td>\n",
              "      <td>3.664417</td>\n",
              "      <td>41.29</td>\n",
              "    </tr>\n",
              "  </tbody>\n",
              "</table>\n",
              "</div>"
            ],
            "text/plain": [
              "             open   high    low  ...  mean_price  daily_price_change  close_shift\n",
              "Date                             ...                                             \n",
              "2019-05-10  42.00  45.00  41.06  ...      41.785           -1.023810          NaN\n",
              "2019-05-13  38.79  39.24  36.08  ...      37.945           -4.356793        41.57\n",
              "2019-05-14  38.31  39.96  36.85  ...      39.135            4.306969        37.10\n",
              "2019-05-15  39.37  41.88  38.95  ...      40.330            4.876810        39.96\n",
              "2019-05-16  41.48  44.06  41.25  ...      42.240            3.664417        41.29\n",
              "\n",
              "[5 rows x 8 columns]"
            ]
          },
          "metadata": {
            "tags": []
          },
          "execution_count": 58
        }
      ]
    },
    {
      "cell_type": "code",
      "metadata": {
        "id": "hHVSOeydasaD",
        "colab_type": "code",
        "colab": {
          "base_uri": "https://localhost:8080/",
          "height": 339
        },
        "outputId": "641dce91-72d9-44d3-8966-5e44aecab692"
      },
      "source": [
        "df['day_to_day_change'] = df.close / df.close_shift - 1\n",
        "df.head()"
      ],
      "execution_count": 67,
      "outputs": [
        {
          "output_type": "execute_result",
          "data": {
            "text/html": [
              "<div>\n",
              "<style scoped>\n",
              "    .dataframe tbody tr th:only-of-type {\n",
              "        vertical-align: middle;\n",
              "    }\n",
              "\n",
              "    .dataframe tbody tr th {\n",
              "        vertical-align: top;\n",
              "    }\n",
              "\n",
              "    .dataframe thead th {\n",
              "        text-align: right;\n",
              "    }\n",
              "</style>\n",
              "<table border=\"1\" class=\"dataframe\">\n",
              "  <thead>\n",
              "    <tr style=\"text-align: right;\">\n",
              "      <th></th>\n",
              "      <th>open</th>\n",
              "      <th>high</th>\n",
              "      <th>low</th>\n",
              "      <th>close</th>\n",
              "      <th>volume</th>\n",
              "      <th>mean_price</th>\n",
              "      <th>close_shift</th>\n",
              "      <th>Day_to_day_change</th>\n",
              "      <th>day_to_day_change</th>\n",
              "    </tr>\n",
              "    <tr>\n",
              "      <th>Date</th>\n",
              "      <th></th>\n",
              "      <th></th>\n",
              "      <th></th>\n",
              "      <th></th>\n",
              "      <th></th>\n",
              "      <th></th>\n",
              "      <th></th>\n",
              "      <th></th>\n",
              "      <th></th>\n",
              "    </tr>\n",
              "  </thead>\n",
              "  <tbody>\n",
              "    <tr>\n",
              "      <th>2019-05-10</th>\n",
              "      <td>42.00</td>\n",
              "      <td>45.00</td>\n",
              "      <td>41.06</td>\n",
              "      <td>41.57</td>\n",
              "      <td>186322536</td>\n",
              "      <td>41.785</td>\n",
              "      <td>NaN</td>\n",
              "      <td>NaN</td>\n",
              "      <td>NaN</td>\n",
              "    </tr>\n",
              "    <tr>\n",
              "      <th>2019-05-13</th>\n",
              "      <td>38.79</td>\n",
              "      <td>39.24</td>\n",
              "      <td>36.08</td>\n",
              "      <td>37.10</td>\n",
              "      <td>79442420</td>\n",
              "      <td>37.945</td>\n",
              "      <td>41.57</td>\n",
              "      <td>-0.107529</td>\n",
              "      <td>-0.107529</td>\n",
              "    </tr>\n",
              "    <tr>\n",
              "      <th>2019-05-14</th>\n",
              "      <td>38.31</td>\n",
              "      <td>39.96</td>\n",
              "      <td>36.85</td>\n",
              "      <td>39.96</td>\n",
              "      <td>46661147</td>\n",
              "      <td>39.135</td>\n",
              "      <td>37.10</td>\n",
              "      <td>0.077089</td>\n",
              "      <td>0.077089</td>\n",
              "    </tr>\n",
              "    <tr>\n",
              "      <th>2019-05-15</th>\n",
              "      <td>39.37</td>\n",
              "      <td>41.88</td>\n",
              "      <td>38.95</td>\n",
              "      <td>41.29</td>\n",
              "      <td>36086065</td>\n",
              "      <td>40.330</td>\n",
              "      <td>39.96</td>\n",
              "      <td>0.033283</td>\n",
              "      <td>0.033283</td>\n",
              "    </tr>\n",
              "    <tr>\n",
              "      <th>2019-05-16</th>\n",
              "      <td>41.48</td>\n",
              "      <td>44.06</td>\n",
              "      <td>41.25</td>\n",
              "      <td>43.00</td>\n",
              "      <td>38115524</td>\n",
              "      <td>42.240</td>\n",
              "      <td>41.29</td>\n",
              "      <td>0.041414</td>\n",
              "      <td>0.041414</td>\n",
              "    </tr>\n",
              "  </tbody>\n",
              "</table>\n",
              "</div>"
            ],
            "text/plain": [
              "             open   high  ...  Day_to_day_change  day_to_day_change\n",
              "Date                      ...                                      \n",
              "2019-05-10  42.00  45.00  ...                NaN                NaN\n",
              "2019-05-13  38.79  39.24  ...          -0.107529          -0.107529\n",
              "2019-05-14  38.31  39.96  ...           0.077089           0.077089\n",
              "2019-05-15  39.37  41.88  ...           0.033283           0.033283\n",
              "2019-05-16  41.48  44.06  ...           0.041414           0.041414\n",
              "\n",
              "[5 rows x 9 columns]"
            ]
          },
          "metadata": {
            "tags": []
          },
          "execution_count": 67
        }
      ]
    },
    {
      "cell_type": "code",
      "metadata": {
        "id": "086jbelIasS0",
        "colab_type": "code",
        "colab": {
          "base_uri": "https://localhost:8080/",
          "height": 357
        },
        "outputId": "0f81e279-eb53-40fc-b68a-ba6b7a69c8b1"
      },
      "source": [
        "del df['Day_to_day_change'] # usuwanie kolumny\n",
        "df.head()"
      ],
      "execution_count": 68,
      "outputs": [
        {
          "output_type": "stream",
          "text": [
            "ERROR! Session/line number was not unique in database. History logging moved to new session 61\n"
          ],
          "name": "stdout"
        },
        {
          "output_type": "execute_result",
          "data": {
            "text/html": [
              "<div>\n",
              "<style scoped>\n",
              "    .dataframe tbody tr th:only-of-type {\n",
              "        vertical-align: middle;\n",
              "    }\n",
              "\n",
              "    .dataframe tbody tr th {\n",
              "        vertical-align: top;\n",
              "    }\n",
              "\n",
              "    .dataframe thead th {\n",
              "        text-align: right;\n",
              "    }\n",
              "</style>\n",
              "<table border=\"1\" class=\"dataframe\">\n",
              "  <thead>\n",
              "    <tr style=\"text-align: right;\">\n",
              "      <th></th>\n",
              "      <th>open</th>\n",
              "      <th>high</th>\n",
              "      <th>low</th>\n",
              "      <th>close</th>\n",
              "      <th>volume</th>\n",
              "      <th>mean_price</th>\n",
              "      <th>close_shift</th>\n",
              "      <th>day_to_day_change</th>\n",
              "    </tr>\n",
              "    <tr>\n",
              "      <th>Date</th>\n",
              "      <th></th>\n",
              "      <th></th>\n",
              "      <th></th>\n",
              "      <th></th>\n",
              "      <th></th>\n",
              "      <th></th>\n",
              "      <th></th>\n",
              "      <th></th>\n",
              "    </tr>\n",
              "  </thead>\n",
              "  <tbody>\n",
              "    <tr>\n",
              "      <th>2019-05-10</th>\n",
              "      <td>42.00</td>\n",
              "      <td>45.00</td>\n",
              "      <td>41.06</td>\n",
              "      <td>41.57</td>\n",
              "      <td>186322536</td>\n",
              "      <td>41.785</td>\n",
              "      <td>NaN</td>\n",
              "      <td>NaN</td>\n",
              "    </tr>\n",
              "    <tr>\n",
              "      <th>2019-05-13</th>\n",
              "      <td>38.79</td>\n",
              "      <td>39.24</td>\n",
              "      <td>36.08</td>\n",
              "      <td>37.10</td>\n",
              "      <td>79442420</td>\n",
              "      <td>37.945</td>\n",
              "      <td>41.57</td>\n",
              "      <td>-0.107529</td>\n",
              "    </tr>\n",
              "    <tr>\n",
              "      <th>2019-05-14</th>\n",
              "      <td>38.31</td>\n",
              "      <td>39.96</td>\n",
              "      <td>36.85</td>\n",
              "      <td>39.96</td>\n",
              "      <td>46661147</td>\n",
              "      <td>39.135</td>\n",
              "      <td>37.10</td>\n",
              "      <td>0.077089</td>\n",
              "    </tr>\n",
              "    <tr>\n",
              "      <th>2019-05-15</th>\n",
              "      <td>39.37</td>\n",
              "      <td>41.88</td>\n",
              "      <td>38.95</td>\n",
              "      <td>41.29</td>\n",
              "      <td>36086065</td>\n",
              "      <td>40.330</td>\n",
              "      <td>39.96</td>\n",
              "      <td>0.033283</td>\n",
              "    </tr>\n",
              "    <tr>\n",
              "      <th>2019-05-16</th>\n",
              "      <td>41.48</td>\n",
              "      <td>44.06</td>\n",
              "      <td>41.25</td>\n",
              "      <td>43.00</td>\n",
              "      <td>38115524</td>\n",
              "      <td>42.240</td>\n",
              "      <td>41.29</td>\n",
              "      <td>0.041414</td>\n",
              "    </tr>\n",
              "  </tbody>\n",
              "</table>\n",
              "</div>"
            ],
            "text/plain": [
              "             open   high    low  ...  mean_price  close_shift  day_to_day_change\n",
              "Date                             ...                                            \n",
              "2019-05-10  42.00  45.00  41.06  ...      41.785          NaN                NaN\n",
              "2019-05-13  38.79  39.24  36.08  ...      37.945        41.57          -0.107529\n",
              "2019-05-14  38.31  39.96  36.85  ...      39.135        37.10           0.077089\n",
              "2019-05-15  39.37  41.88  38.95  ...      40.330        39.96           0.033283\n",
              "2019-05-16  41.48  44.06  41.25  ...      42.240        41.29           0.041414\n",
              "\n",
              "[5 rows x 8 columns]"
            ]
          },
          "metadata": {
            "tags": []
          },
          "execution_count": 68
        }
      ]
    },
    {
      "cell_type": "code",
      "metadata": {
        "id": "4crNBHWyasN8",
        "colab_type": "code",
        "colab": {
          "base_uri": "https://localhost:8080/",
          "height": 35
        },
        "outputId": "330de89f-23de-421b-fde0-d6de5a62defa"
      },
      "source": [
        "df.day_to_day_change.min()"
      ],
      "execution_count": 69,
      "outputs": [
        {
          "output_type": "execute_result",
          "data": {
            "text/plain": [
              "-0.21628767847699626"
            ]
          },
          "metadata": {
            "tags": []
          },
          "execution_count": 69
        }
      ]
    },
    {
      "cell_type": "code",
      "metadata": {
        "id": "gh7e8t9xasKF",
        "colab_type": "code",
        "colab": {
          "base_uri": "https://localhost:8080/",
          "height": 35
        },
        "outputId": "0c5fafd4-1ee8-4038-c874-9f6227107345"
      },
      "source": [
        "df.day_to_day_change.max()"
      ],
      "execution_count": 70,
      "outputs": [
        {
          "output_type": "execute_result",
          "data": {
            "text/plain": [
              "0.3825910931174088"
            ]
          },
          "metadata": {
            "tags": []
          },
          "execution_count": 70
        }
      ]
    },
    {
      "cell_type": "code",
      "metadata": {
        "id": "kOdwXJRtasE5",
        "colab_type": "code",
        "colab": {
          "base_uri": "https://localhost:8080/",
          "height": 287
        },
        "outputId": "d4ab1ae5-6595-4a75-861b-a7b15b679f3b"
      },
      "source": [
        "import seaborn as sns #biblioteka do fajncyh stylów obrazkó\n",
        "sns.set() # włączanie biblioteki\n",
        "\n",
        "df.day_to_day_change.hist(bins=10) # tworzenie histogramu "
      ],
      "execution_count": 74,
      "outputs": [
        {
          "output_type": "execute_result",
          "data": {
            "text/plain": [
              "<matplotlib.axes._subplots.AxesSubplot at 0x7f1eb70a9400>"
            ]
          },
          "metadata": {
            "tags": []
          },
          "execution_count": 74
        },
        {
          "output_type": "display_data",
          "data": {
            "image/png": "[encoded data removed]",
            "text/plain": [
              "<Figure size 432x288 with 1 Axes>"
            ]
          },
          "metadata": {
            "tags": []
          }
        }
      ]
    },
    {
      "cell_type": "code",
      "metadata": {
        "id": "V-CyW1LkasBu",
        "colab_type": "code",
        "colab": {
          "base_uri": "https://localhost:8080/",
          "height": 303
        },
        "outputId": "8b8a5193-76f1-4f25-cd26-47bc2219329e"
      },
      "source": [
        "df.close.plot()"
      ],
      "execution_count": 76,
      "outputs": [
        {
          "output_type": "execute_result",
          "data": {
            "text/plain": [
              "<matplotlib.axes._subplots.AxesSubplot at 0x7f1eb7107dd8>"
            ]
          },
          "metadata": {
            "tags": []
          },
          "execution_count": 76
        },
        {
          "output_type": "display_data",
          "data": {
            "image/png": "[encoded data removed]",
            "text/plain": [
              "<Figure size 432x288 with 1 Axes>"
            ]
          },
          "metadata": {
            "tags": []
          }
        }
      ]
    },
    {
      "cell_type": "code",
      "metadata": {
        "id": "7knklSrfar9x",
        "colab_type": "code",
        "colab": {}
      },
      "source": [
        ""
      ],
      "execution_count": 0,
      "outputs": []
    },
    {
      "cell_type": "code",
      "metadata": {
        "id": "O_cxs_PYar5r",
        "colab_type": "code",
        "colab": {}
      },
      "source": [
        ""
      ],
      "execution_count": 0,
      "outputs": []
    },
    {
      "cell_type": "code",
      "metadata": {
        "id": "cm1vV4nxar0a",
        "colab_type": "code",
        "colab": {}
      },
      "source": [
        ""
      ],
      "execution_count": 0,
      "outputs": []
    },
    {
      "cell_type": "code",
      "metadata": {
        "id": "NoroWVCiarwC",
        "colab_type": "code",
        "colab": {}
      },
      "source": [
        ""
      ],
      "execution_count": 0,
      "outputs": []
    },
    {
      "cell_type": "code",
      "metadata": {
        "id": "KxH2JeBMarrN",
        "colab_type": "code",
        "colab": {}
      },
      "source": [
        ""
      ],
      "execution_count": 0,
      "outputs": []
    },
    {
      "cell_type": "code",
      "metadata": {
        "id": "-1Edr3aSaroc",
        "colab_type": "code",
        "colab": {}
      },
      "source": [
        ""
      ],
      "execution_count": 0,
      "outputs": []
    },
    {
      "cell_type": "code",
      "metadata": {
        "id": "ugna52GJarki",
        "colab_type": "code",
        "colab": {}
      },
      "source": [
        ""
      ],
      "execution_count": 0,
      "outputs": []
    },
    {
      "cell_type": "code",
      "metadata": {
        "id": "oaeq_E8gaqY1",
        "colab_type": "code",
        "colab": {}
      },
      "source": [
        ""
      ],
      "execution_count": 0,
      "outputs": []
    },
    {
      "cell_type": "code",
      "metadata": {
        "id": "xZeQLLqNam46",
        "colab_type": "code",
        "colab": {}
      },
      "source": [
        ""
      ],
      "execution_count": 0,
      "outputs": []
    },
    {
      "cell_type": "code",
      "metadata": {
        "id": "j1ZBT--xam-D",
        "colab_type": "code",
        "colab": {}
      },
      "source": [
        ""
      ],
      "execution_count": 0,
      "outputs": []
    }
  ]
}